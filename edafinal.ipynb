{
 "cells": [
  {
   "cell_type": "markdown",
   "id": "ad6718a3-8dc1-4ee3-b6f3-44ab2a2dd0a9",
   "metadata": {},
   "source": [
    "### Gramener Case Study"
   ]
  },
  {
   "cell_type": "markdown",
   "id": "6d51a436-3584-4278-ad27-47c9b752b45e",
   "metadata": {},
   "source": [
    "In this case study, we will  develop a basic understanding of risk analytics in banking and financial services and understand how data minimises the risk of losing money while lending it to customers."
   ]
  },
  {
   "cell_type": "markdown",
   "id": "247e70ad-dc62-4ae4-9058-b0a49b06dae3",
   "metadata": {},
   "source": [
    "### Problem Statement"
   ]
  },
  {
   "cell_type": "markdown",
   "id": "0db9d381-8536-4872-ab98-fabcd6e2281c",
   "metadata": {},
   "source": [
    "I work for a consumer finance company that specialises in providing various types of loans to urban customers. When the company receives a loan application, it has to decide whether to approve or reject it based on the applicant’s profile. \n",
    "\n",
    "Two types of risks are\n",
    "associated with the bank’s decision:\n",
    "\n",
    "If the applicant is likely to repay the loan, then not approving the loan results in a loss of business to the company.\n",
    "If the applicant is not likely to repay the loan, i.e., they are likely to default, then approving the loan may lead to financial loss for the company."
   ]
  },
  {
   "cell_type": "markdown",
   "id": "6fdae017-9602-4cda-ae27-f6de4c6d249e",
   "metadata": {},
   "source": [
    "The data given below contains information about past loan applicants and whether they ‘defaulted’.\n",
    "\n",
    "\n",
    "The aim is to identify patterns indicating that a person is likely to default, which may be used to deny the loan, reduce the loan amount, lend (to risky applicants) at a higher interest rate, etc.\n",
    "\n",
    "\n",
    "When a person applies for a loan, there are two types of decisions that could be taken by the company:\n",
    "\n",
    "\n",
    "1. Loan accepted: If the company approves the loan, there are three possible scenarios, as described below:\n",
    "\n",
    "2. Fully paid: The applicant has fully paid the loan (the principal and the interest amount).\n",
    "   Current: The applicant is in the process of paying the instalments, i.e., the tenure of the loan is not yet completed. These candidates are not          labelled as ‘defaulted’.\n",
    "\n",
    "3. Charged-off: The applicant has not paid the instalments in due time for a long period, i.e., they have defaulted on the loan.\n",
    "   Loan rejected: The company had rejected the loan (because the candidate does not meet their requirements, etc.). Since the loan was rejected, there      is no transactional history of those applicants with the company; so, this data is not available with the company (and thus, in this data set)."
   ]
  },
  {
   "cell_type": "markdown",
   "id": "c478efa5-d721-4ae8-8a3b-f04d17e90d55",
   "metadata": {},
   "source": [
    "### Importing the libraries."
   ]
  },
  {
   "cell_type": "code",
   "execution_count": 1,
   "id": "48f565c1-83ba-402a-84ef-5f251842ec36",
   "metadata": {},
   "outputs": [],
   "source": [
    "# import the warnings.\n",
    "import warnings\n",
    "warnings.filterwarnings(\"ignore\")\n",
    "\n",
    "\n",
    "# import the useful libraries.\n",
    "import pandas as pd\n",
    "import numpy as np\n",
    "import matplotlib.pyplot as plt\n",
    "import seaborn as sns\n",
    "%matplotlib inline\n"
   ]
  },
  {
   "cell_type": "markdown",
   "id": "fe2423c0-8b88-445d-9eda-44f29e878f78",
   "metadata": {},
   "source": [
    "### The analysis is divided into four main parts:\n",
    "1. Data understanding\n",
    "2. Data cleaning (cleaning missing values, removing redundant columns etc.)\n",
    "3. Data Analysis\n",
    "4. Conclusion"
   ]
  },
  {
   "cell_type": "markdown",
   "id": "d05f0eb4-2eea-443c-a0f5-7869cdaeb18e",
   "metadata": {},
   "source": [
    "### Data understanding\n"
   ]
  },
  {
   "cell_type": "code",
   "execution_count": 2,
   "id": "a3fd19fc-7388-462d-949d-75880c65e7b8",
   "metadata": {},
   "outputs": [],
   "source": [
    "#read the data set of \"Loan\" in loan.\n",
    "loan = pd.read_csv('loan.csv')"
   ]
  },
  {
   "cell_type": "code",
   "execution_count": 3,
   "id": "35d7e45e-2fce-40fd-9641-9069ba67a1f5",
   "metadata": {},
   "outputs": [
    {
     "data": {
      "text/html": [
       "<div>\n",
       "<style scoped>\n",
       "    .dataframe tbody tr th:only-of-type {\n",
       "        vertical-align: middle;\n",
       "    }\n",
       "\n",
       "    .dataframe tbody tr th {\n",
       "        vertical-align: top;\n",
       "    }\n",
       "\n",
       "    .dataframe thead th {\n",
       "        text-align: right;\n",
       "    }\n",
       "</style>\n",
       "<table border=\"1\" class=\"dataframe\">\n",
       "  <thead>\n",
       "    <tr style=\"text-align: right;\">\n",
       "      <th></th>\n",
       "      <th>id</th>\n",
       "      <th>member_id</th>\n",
       "      <th>loan_amnt</th>\n",
       "      <th>funded_amnt</th>\n",
       "      <th>funded_amnt_inv</th>\n",
       "      <th>term</th>\n",
       "      <th>int_rate</th>\n",
       "      <th>installment</th>\n",
       "      <th>grade</th>\n",
       "      <th>sub_grade</th>\n",
       "      <th>...</th>\n",
       "      <th>num_tl_90g_dpd_24m</th>\n",
       "      <th>num_tl_op_past_12m</th>\n",
       "      <th>pct_tl_nvr_dlq</th>\n",
       "      <th>percent_bc_gt_75</th>\n",
       "      <th>pub_rec_bankruptcies</th>\n",
       "      <th>tax_liens</th>\n",
       "      <th>tot_hi_cred_lim</th>\n",
       "      <th>total_bal_ex_mort</th>\n",
       "      <th>total_bc_limit</th>\n",
       "      <th>total_il_high_credit_limit</th>\n",
       "    </tr>\n",
       "  </thead>\n",
       "  <tbody>\n",
       "    <tr>\n",
       "      <th>0</th>\n",
       "      <td>1077501</td>\n",
       "      <td>1296599</td>\n",
       "      <td>5000</td>\n",
       "      <td>5000</td>\n",
       "      <td>4975.0</td>\n",
       "      <td>36 months</td>\n",
       "      <td>10.65%</td>\n",
       "      <td>162.87</td>\n",
       "      <td>B</td>\n",
       "      <td>B2</td>\n",
       "      <td>...</td>\n",
       "      <td>NaN</td>\n",
       "      <td>NaN</td>\n",
       "      <td>NaN</td>\n",
       "      <td>NaN</td>\n",
       "      <td>0.0</td>\n",
       "      <td>0.0</td>\n",
       "      <td>NaN</td>\n",
       "      <td>NaN</td>\n",
       "      <td>NaN</td>\n",
       "      <td>NaN</td>\n",
       "    </tr>\n",
       "    <tr>\n",
       "      <th>1</th>\n",
       "      <td>1077430</td>\n",
       "      <td>1314167</td>\n",
       "      <td>2500</td>\n",
       "      <td>2500</td>\n",
       "      <td>2500.0</td>\n",
       "      <td>60 months</td>\n",
       "      <td>15.27%</td>\n",
       "      <td>59.83</td>\n",
       "      <td>C</td>\n",
       "      <td>C4</td>\n",
       "      <td>...</td>\n",
       "      <td>NaN</td>\n",
       "      <td>NaN</td>\n",
       "      <td>NaN</td>\n",
       "      <td>NaN</td>\n",
       "      <td>0.0</td>\n",
       "      <td>0.0</td>\n",
       "      <td>NaN</td>\n",
       "      <td>NaN</td>\n",
       "      <td>NaN</td>\n",
       "      <td>NaN</td>\n",
       "    </tr>\n",
       "    <tr>\n",
       "      <th>2</th>\n",
       "      <td>1077175</td>\n",
       "      <td>1313524</td>\n",
       "      <td>2400</td>\n",
       "      <td>2400</td>\n",
       "      <td>2400.0</td>\n",
       "      <td>36 months</td>\n",
       "      <td>15.96%</td>\n",
       "      <td>84.33</td>\n",
       "      <td>C</td>\n",
       "      <td>C5</td>\n",
       "      <td>...</td>\n",
       "      <td>NaN</td>\n",
       "      <td>NaN</td>\n",
       "      <td>NaN</td>\n",
       "      <td>NaN</td>\n",
       "      <td>0.0</td>\n",
       "      <td>0.0</td>\n",
       "      <td>NaN</td>\n",
       "      <td>NaN</td>\n",
       "      <td>NaN</td>\n",
       "      <td>NaN</td>\n",
       "    </tr>\n",
       "    <tr>\n",
       "      <th>3</th>\n",
       "      <td>1076863</td>\n",
       "      <td>1277178</td>\n",
       "      <td>10000</td>\n",
       "      <td>10000</td>\n",
       "      <td>10000.0</td>\n",
       "      <td>36 months</td>\n",
       "      <td>13.49%</td>\n",
       "      <td>339.31</td>\n",
       "      <td>C</td>\n",
       "      <td>C1</td>\n",
       "      <td>...</td>\n",
       "      <td>NaN</td>\n",
       "      <td>NaN</td>\n",
       "      <td>NaN</td>\n",
       "      <td>NaN</td>\n",
       "      <td>0.0</td>\n",
       "      <td>0.0</td>\n",
       "      <td>NaN</td>\n",
       "      <td>NaN</td>\n",
       "      <td>NaN</td>\n",
       "      <td>NaN</td>\n",
       "    </tr>\n",
       "    <tr>\n",
       "      <th>4</th>\n",
       "      <td>1075358</td>\n",
       "      <td>1311748</td>\n",
       "      <td>3000</td>\n",
       "      <td>3000</td>\n",
       "      <td>3000.0</td>\n",
       "      <td>60 months</td>\n",
       "      <td>12.69%</td>\n",
       "      <td>67.79</td>\n",
       "      <td>B</td>\n",
       "      <td>B5</td>\n",
       "      <td>...</td>\n",
       "      <td>NaN</td>\n",
       "      <td>NaN</td>\n",
       "      <td>NaN</td>\n",
       "      <td>NaN</td>\n",
       "      <td>0.0</td>\n",
       "      <td>0.0</td>\n",
       "      <td>NaN</td>\n",
       "      <td>NaN</td>\n",
       "      <td>NaN</td>\n",
       "      <td>NaN</td>\n",
       "    </tr>\n",
       "  </tbody>\n",
       "</table>\n",
       "<p>5 rows × 111 columns</p>\n",
       "</div>"
      ],
      "text/plain": [
       "        id  member_id  loan_amnt  funded_amnt  funded_amnt_inv        term  \\\n",
       "0  1077501    1296599       5000         5000           4975.0   36 months   \n",
       "1  1077430    1314167       2500         2500           2500.0   60 months   \n",
       "2  1077175    1313524       2400         2400           2400.0   36 months   \n",
       "3  1076863    1277178      10000        10000          10000.0   36 months   \n",
       "4  1075358    1311748       3000         3000           3000.0   60 months   \n",
       "\n",
       "  int_rate  installment grade sub_grade  ... num_tl_90g_dpd_24m  \\\n",
       "0   10.65%       162.87     B        B2  ...                NaN   \n",
       "1   15.27%        59.83     C        C4  ...                NaN   \n",
       "2   15.96%        84.33     C        C5  ...                NaN   \n",
       "3   13.49%       339.31     C        C1  ...                NaN   \n",
       "4   12.69%        67.79     B        B5  ...                NaN   \n",
       "\n",
       "  num_tl_op_past_12m pct_tl_nvr_dlq  percent_bc_gt_75 pub_rec_bankruptcies  \\\n",
       "0                NaN            NaN               NaN                  0.0   \n",
       "1                NaN            NaN               NaN                  0.0   \n",
       "2                NaN            NaN               NaN                  0.0   \n",
       "3                NaN            NaN               NaN                  0.0   \n",
       "4                NaN            NaN               NaN                  0.0   \n",
       "\n",
       "  tax_liens tot_hi_cred_lim total_bal_ex_mort total_bc_limit  \\\n",
       "0       0.0             NaN               NaN            NaN   \n",
       "1       0.0             NaN               NaN            NaN   \n",
       "2       0.0             NaN               NaN            NaN   \n",
       "3       0.0             NaN               NaN            NaN   \n",
       "4       0.0             NaN               NaN            NaN   \n",
       "\n",
       "  total_il_high_credit_limit  \n",
       "0                        NaN  \n",
       "1                        NaN  \n",
       "2                        NaN  \n",
       "3                        NaN  \n",
       "4                        NaN  \n",
       "\n",
       "[5 rows x 111 columns]"
      ]
     },
     "execution_count": 3,
     "metadata": {},
     "output_type": "execute_result"
    }
   ],
   "source": [
    "#Print the head of the data frame.\n",
    "loan.head()"
   ]
  },
  {
   "cell_type": "code",
   "execution_count": 4,
   "id": "a3452189-f1c8-4c55-910b-8b74385cc5cc",
   "metadata": {},
   "outputs": [
    {
     "name": "stdout",
     "output_type": "stream",
     "text": [
      "<class 'pandas.core.frame.DataFrame'>\n",
      "RangeIndex: 39717 entries, 0 to 39716\n",
      "Columns: 111 entries, id to total_il_high_credit_limit\n",
      "dtypes: float64(74), int64(13), object(24)\n",
      "memory usage: 33.6+ MB\n"
     ]
    }
   ],
   "source": [
    "loan.info()\n"
   ]
  },
  {
   "cell_type": "code",
   "execution_count": 5,
   "id": "7a4edfc2-22b4-4a2d-b535-373abba90f55",
   "metadata": {},
   "outputs": [
    {
     "data": {
      "text/plain": [
       "(39717, 111)"
      ]
     },
     "execution_count": 5,
     "metadata": {},
     "output_type": "execute_result"
    }
   ],
   "source": [
    "loan.shape"
   ]
  },
  {
   "cell_type": "markdown",
   "id": "a98db45f-9f1f-46fb-8983-865a834a3ba8",
   "metadata": {},
   "source": []
  },
  {
   "cell_type": "code",
   "execution_count": 6,
   "id": "3b91d4d9-4cd5-4954-b2d2-24d560e92a8b",
   "metadata": {},
   "outputs": [
    {
     "data": {
      "text/plain": [
       "Index(['id', 'member_id', 'loan_amnt', 'funded_amnt', 'funded_amnt_inv',\n",
       "       'term', 'int_rate', 'installment', 'grade', 'sub_grade',\n",
       "       ...\n",
       "       'num_tl_90g_dpd_24m', 'num_tl_op_past_12m', 'pct_tl_nvr_dlq',\n",
       "       'percent_bc_gt_75', 'pub_rec_bankruptcies', 'tax_liens',\n",
       "       'tot_hi_cred_lim', 'total_bal_ex_mort', 'total_bc_limit',\n",
       "       'total_il_high_credit_limit'],\n",
       "      dtype='object', length=111)"
      ]
     },
     "execution_count": 6,
     "metadata": {},
     "output_type": "execute_result"
    }
   ],
   "source": [
    "loan.columns"
   ]
  },
  {
   "cell_type": "markdown",
   "id": "dd254ae8-50a2-4f64-b94b-3ed0de654365",
   "metadata": {},
   "source": [
    "### Data Cleaning\n"
   ]
  },
  {
   "cell_type": "markdown",
   "id": "a252885c-ada9-4b5c-84f6-12d96d1e269a",
   "metadata": {},
   "source": [
    "### Finding the Missing Values"
   ]
  },
  {
   "cell_type": "code",
   "execution_count": 7,
   "id": "30c7dfa1-5fbf-40b6-a16f-e210bef63012",
   "metadata": {},
   "outputs": [
    {
     "data": {
      "text/plain": [
       "id                                0\n",
       "member_id                         0\n",
       "loan_amnt                         0\n",
       "funded_amnt                       0\n",
       "funded_amnt_inv                   0\n",
       "                              ...  \n",
       "tax_liens                        39\n",
       "tot_hi_cred_lim               39717\n",
       "total_bal_ex_mort             39717\n",
       "total_bc_limit                39717\n",
       "total_il_high_credit_limit    39717\n",
       "Length: 111, dtype: int64"
      ]
     },
     "execution_count": 7,
     "metadata": {},
     "output_type": "execute_result"
    }
   ],
   "source": [
    "loan.isna().sum()"
   ]
  },
  {
   "cell_type": "code",
   "execution_count": 8,
   "id": "9f4fe4e8-b68b-4823-b650-416bf4d4718a",
   "metadata": {},
   "outputs": [
    {
     "data": {
      "text/plain": [
       "id                            0.000000\n",
       "member_id                     0.000000\n",
       "loan_amnt                     0.000000\n",
       "funded_amnt                   0.000000\n",
       "funded_amnt_inv               0.000000\n",
       "                                ...   \n",
       "tax_liens                     0.000982\n",
       "tot_hi_cred_lim               1.000000\n",
       "total_bal_ex_mort             1.000000\n",
       "total_bc_limit                1.000000\n",
       "total_il_high_credit_limit    1.000000\n",
       "Length: 111, dtype: float64"
      ]
     },
     "execution_count": 8,
     "metadata": {},
     "output_type": "execute_result"
    }
   ],
   "source": [
    "null_percentage = loan.isnull().mean()\n",
    "null_percentage"
   ]
  },
  {
   "cell_type": "markdown",
   "id": "4ae88c27-d570-44d6-a403-c830a5300277",
   "metadata": {},
   "source": [
    "### Impute/Remove missing values"
   ]
  },
  {
   "cell_type": "code",
   "execution_count": 9,
   "id": "608e93ee-6bef-4019-b65f-8812f4818082",
   "metadata": {},
   "outputs": [],
   "source": [
    "# Drop the columns which contain null values more than or equal to 75%.\n",
    "columns_to_drop = null_percentage[null_percentage >= 0.75].index\n",
    "loan.drop(columns = columns_to_drop, inplace = True)"
   ]
  },
  {
   "cell_type": "code",
   "execution_count": 10,
   "id": "cba3a1b4-4a93-485a-ab4f-b1b75edf53c8",
   "metadata": {},
   "outputs": [
    {
     "data": {
      "text/plain": [
       "id                             0.000000\n",
       "member_id                      0.000000\n",
       "loan_amnt                      0.000000\n",
       "funded_amnt                    0.000000\n",
       "funded_amnt_inv                0.000000\n",
       "term                           0.000000\n",
       "int_rate                       0.000000\n",
       "installment                    0.000000\n",
       "grade                          0.000000\n",
       "sub_grade                      0.000000\n",
       "emp_title                      6.191303\n",
       "emp_length                     2.706650\n",
       "home_ownership                 0.000000\n",
       "annual_inc                     0.000000\n",
       "verification_status            0.000000\n",
       "issue_d                        0.000000\n",
       "loan_status                    0.000000\n",
       "pymnt_plan                     0.000000\n",
       "url                            0.000000\n",
       "desc                          32.585543\n",
       "purpose                        0.000000\n",
       "title                          0.027696\n",
       "zip_code                       0.000000\n",
       "addr_state                     0.000000\n",
       "dti                            0.000000\n",
       "delinq_2yrs                    0.000000\n",
       "earliest_cr_line               0.000000\n",
       "inq_last_6mths                 0.000000\n",
       "mths_since_last_delinq        64.662487\n",
       "open_acc                       0.000000\n",
       "pub_rec                        0.000000\n",
       "revol_bal                      0.000000\n",
       "revol_util                     0.125891\n",
       "total_acc                      0.000000\n",
       "initial_list_status            0.000000\n",
       "out_prncp                      0.000000\n",
       "out_prncp_inv                  0.000000\n",
       "total_pymnt                    0.000000\n",
       "total_pymnt_inv                0.000000\n",
       "total_rec_prncp                0.000000\n",
       "total_rec_int                  0.000000\n",
       "total_rec_late_fee             0.000000\n",
       "recoveries                     0.000000\n",
       "collection_recovery_fee        0.000000\n",
       "last_pymnt_d                   0.178765\n",
       "last_pymnt_amnt                0.000000\n",
       "last_credit_pull_d             0.005036\n",
       "collections_12_mths_ex_med     0.140998\n",
       "policy_code                    0.000000\n",
       "application_type               0.000000\n",
       "acc_now_delinq                 0.000000\n",
       "chargeoff_within_12_mths       0.140998\n",
       "delinq_amnt                    0.000000\n",
       "pub_rec_bankruptcies           1.754916\n",
       "tax_liens                      0.098195\n",
       "dtype: float64"
      ]
     },
     "execution_count": 10,
     "metadata": {},
     "output_type": "execute_result"
    }
   ],
   "source": [
    "loan.isnull().sum()/loan.shape[0] * 100"
   ]
  },
  {
   "cell_type": "code",
   "execution_count": 11,
   "id": "dc483823-852e-4ff3-8392-d5f77ffa0e9f",
   "metadata": {},
   "outputs": [
    {
     "data": {
      "text/plain": [
       "(39717, 55)"
      ]
     },
     "execution_count": 11,
     "metadata": {},
     "output_type": "execute_result"
    }
   ],
   "source": [
    "loan.shape"
   ]
  },
  {
   "cell_type": "code",
   "execution_count": 12,
   "id": "8f226f33-2a6f-4937-a2a0-35ea426c08f2",
   "metadata": {},
   "outputs": [],
   "source": [
    "# Droping desc and 'mths_since_last_delinq' variable as they contain good amount of null values.\n",
    "loan.drop([\"desc\", \"mths_since_last_delinq\"], axis = 1,inplace = True)"
   ]
  },
  {
   "cell_type": "code",
   "execution_count": 13,
   "id": "184460ec-74bc-4316-82e1-45701a1806df",
   "metadata": {},
   "outputs": [
    {
     "data": {
      "text/plain": [
       "(39717, 53)"
      ]
     },
     "execution_count": 13,
     "metadata": {},
     "output_type": "execute_result"
    }
   ],
   "source": [
    "loan.shape"
   ]
  },
  {
   "cell_type": "code",
   "execution_count": 14,
   "id": "043dc247-47cf-41c7-9a48-4b877b58a893",
   "metadata": {},
   "outputs": [
    {
     "name": "stdout",
     "output_type": "stream",
     "text": [
      "<class 'pandas.core.frame.DataFrame'>\n",
      "RangeIndex: 39717 entries, 0 to 39716\n",
      "Data columns (total 53 columns):\n",
      " #   Column                      Non-Null Count  Dtype  \n",
      "---  ------                      --------------  -----  \n",
      " 0   id                          39717 non-null  int64  \n",
      " 1   member_id                   39717 non-null  int64  \n",
      " 2   loan_amnt                   39717 non-null  int64  \n",
      " 3   funded_amnt                 39717 non-null  int64  \n",
      " 4   funded_amnt_inv             39717 non-null  float64\n",
      " 5   term                        39717 non-null  object \n",
      " 6   int_rate                    39717 non-null  object \n",
      " 7   installment                 39717 non-null  float64\n",
      " 8   grade                       39717 non-null  object \n",
      " 9   sub_grade                   39717 non-null  object \n",
      " 10  emp_title                   37258 non-null  object \n",
      " 11  emp_length                  38642 non-null  object \n",
      " 12  home_ownership              39717 non-null  object \n",
      " 13  annual_inc                  39717 non-null  float64\n",
      " 14  verification_status         39717 non-null  object \n",
      " 15  issue_d                     39717 non-null  object \n",
      " 16  loan_status                 39717 non-null  object \n",
      " 17  pymnt_plan                  39717 non-null  object \n",
      " 18  url                         39717 non-null  object \n",
      " 19  purpose                     39717 non-null  object \n",
      " 20  title                       39706 non-null  object \n",
      " 21  zip_code                    39717 non-null  object \n",
      " 22  addr_state                  39717 non-null  object \n",
      " 23  dti                         39717 non-null  float64\n",
      " 24  delinq_2yrs                 39717 non-null  int64  \n",
      " 25  earliest_cr_line            39717 non-null  object \n",
      " 26  inq_last_6mths              39717 non-null  int64  \n",
      " 27  open_acc                    39717 non-null  int64  \n",
      " 28  pub_rec                     39717 non-null  int64  \n",
      " 29  revol_bal                   39717 non-null  int64  \n",
      " 30  revol_util                  39667 non-null  object \n",
      " 31  total_acc                   39717 non-null  int64  \n",
      " 32  initial_list_status         39717 non-null  object \n",
      " 33  out_prncp                   39717 non-null  float64\n",
      " 34  out_prncp_inv               39717 non-null  float64\n",
      " 35  total_pymnt                 39717 non-null  float64\n",
      " 36  total_pymnt_inv             39717 non-null  float64\n",
      " 37  total_rec_prncp             39717 non-null  float64\n",
      " 38  total_rec_int               39717 non-null  float64\n",
      " 39  total_rec_late_fee          39717 non-null  float64\n",
      " 40  recoveries                  39717 non-null  float64\n",
      " 41  collection_recovery_fee     39717 non-null  float64\n",
      " 42  last_pymnt_d                39646 non-null  object \n",
      " 43  last_pymnt_amnt             39717 non-null  float64\n",
      " 44  last_credit_pull_d          39715 non-null  object \n",
      " 45  collections_12_mths_ex_med  39661 non-null  float64\n",
      " 46  policy_code                 39717 non-null  int64  \n",
      " 47  application_type            39717 non-null  object \n",
      " 48  acc_now_delinq              39717 non-null  int64  \n",
      " 49  chargeoff_within_12_mths    39661 non-null  float64\n",
      " 50  delinq_amnt                 39717 non-null  int64  \n",
      " 51  pub_rec_bankruptcies        39020 non-null  float64\n",
      " 52  tax_liens                   39678 non-null  float64\n",
      "dtypes: float64(18), int64(13), object(22)\n",
      "memory usage: 16.1+ MB\n"
     ]
    }
   ],
   "source": [
    "loan.info()"
   ]
  },
  {
   "cell_type": "code",
   "execution_count": 15,
   "id": "0dc97970-b8e0-488a-92f5-fde11e841602",
   "metadata": {},
   "outputs": [
    {
     "data": {
      "text/plain": [
       "emp_title                     6.191303\n",
       "emp_length                    2.706650\n",
       "title                         0.027696\n",
       "revol_util                    0.125891\n",
       "last_pymnt_d                  0.178765\n",
       "last_credit_pull_d            0.005036\n",
       "collections_12_mths_ex_med    0.140998\n",
       "chargeoff_within_12_mths      0.140998\n",
       "pub_rec_bankruptcies          1.754916\n",
       "tax_liens                     0.098195\n",
       "dtype: float64"
      ]
     },
     "execution_count": 15,
     "metadata": {},
     "output_type": "execute_result"
    }
   ],
   "source": [
    "loan_null_values = loan.isnull().sum()/loan.shape[0] *100\n",
    "loan_null_values[loan_null_values!=0]\n"
   ]
  },
  {
   "cell_type": "code",
   "execution_count": 16,
   "id": "9a892e0a-5bd3-4b9b-95f1-af2cad693ce2",
   "metadata": {},
   "outputs": [],
   "source": [
    "# Fill null values in 'emp_title' with 'Unknown'\n",
    "loan['emp_title'].fillna('Unknown', inplace = True)\n"
   ]
  },
  {
   "cell_type": "code",
   "execution_count": 17,
   "id": "2b9f6964-c257-476f-a126-310d259b6e18",
   "metadata": {},
   "outputs": [],
   "source": [
    "# Find rows with more than 1 null values.\n",
    "rows_with_more_than_1_nulls = loan[loan.isnull().sum(axis = 1) > 1]\n"
   ]
  },
  {
   "cell_type": "code",
   "execution_count": 18,
   "id": "d0348757-222c-4485-9659-21e7cca36ff6",
   "metadata": {},
   "outputs": [
    {
     "data": {
      "text/html": [
       "<div>\n",
       "<style scoped>\n",
       "    .dataframe tbody tr th:only-of-type {\n",
       "        vertical-align: middle;\n",
       "    }\n",
       "\n",
       "    .dataframe tbody tr th {\n",
       "        vertical-align: top;\n",
       "    }\n",
       "\n",
       "    .dataframe thead th {\n",
       "        text-align: right;\n",
       "    }\n",
       "</style>\n",
       "<table border=\"1\" class=\"dataframe\">\n",
       "  <thead>\n",
       "    <tr style=\"text-align: right;\">\n",
       "      <th></th>\n",
       "      <th>id</th>\n",
       "      <th>member_id</th>\n",
       "      <th>loan_amnt</th>\n",
       "      <th>funded_amnt</th>\n",
       "      <th>funded_amnt_inv</th>\n",
       "      <th>term</th>\n",
       "      <th>int_rate</th>\n",
       "      <th>installment</th>\n",
       "      <th>grade</th>\n",
       "      <th>sub_grade</th>\n",
       "      <th>...</th>\n",
       "      <th>last_pymnt_amnt</th>\n",
       "      <th>last_credit_pull_d</th>\n",
       "      <th>collections_12_mths_ex_med</th>\n",
       "      <th>policy_code</th>\n",
       "      <th>application_type</th>\n",
       "      <th>acc_now_delinq</th>\n",
       "      <th>chargeoff_within_12_mths</th>\n",
       "      <th>delinq_amnt</th>\n",
       "      <th>pub_rec_bankruptcies</th>\n",
       "      <th>tax_liens</th>\n",
       "    </tr>\n",
       "  </thead>\n",
       "  <tbody>\n",
       "    <tr>\n",
       "      <th>4714</th>\n",
       "      <td>997734</td>\n",
       "      <td>1222858</td>\n",
       "      <td>6100</td>\n",
       "      <td>6100</td>\n",
       "      <td>6100.0</td>\n",
       "      <td>36 months</td>\n",
       "      <td>14.27%</td>\n",
       "      <td>209.29</td>\n",
       "      <td>C</td>\n",
       "      <td>C2</td>\n",
       "      <td>...</td>\n",
       "      <td>209.29</td>\n",
       "      <td>Nov-12</td>\n",
       "      <td>0.0</td>\n",
       "      <td>1</td>\n",
       "      <td>INDIVIDUAL</td>\n",
       "      <td>0</td>\n",
       "      <td>0.0</td>\n",
       "      <td>0</td>\n",
       "      <td>0.0</td>\n",
       "      <td>0.0</td>\n",
       "    </tr>\n",
       "    <tr>\n",
       "      <th>11282</th>\n",
       "      <td>817195</td>\n",
       "      <td>1024992</td>\n",
       "      <td>5000</td>\n",
       "      <td>5000</td>\n",
       "      <td>5000.0</td>\n",
       "      <td>36 months</td>\n",
       "      <td>21.36%</td>\n",
       "      <td>189.31</td>\n",
       "      <td>F</td>\n",
       "      <td>F4</td>\n",
       "      <td>...</td>\n",
       "      <td>204.01</td>\n",
       "      <td>Feb-15</td>\n",
       "      <td>0.0</td>\n",
       "      <td>1</td>\n",
       "      <td>INDIVIDUAL</td>\n",
       "      <td>0</td>\n",
       "      <td>0.0</td>\n",
       "      <td>0</td>\n",
       "      <td>0.0</td>\n",
       "      <td>0.0</td>\n",
       "    </tr>\n",
       "    <tr>\n",
       "      <th>13891</th>\n",
       "      <td>772732</td>\n",
       "      <td>974723</td>\n",
       "      <td>2000</td>\n",
       "      <td>2000</td>\n",
       "      <td>1900.0</td>\n",
       "      <td>36 months</td>\n",
       "      <td>18.39%</td>\n",
       "      <td>72.70</td>\n",
       "      <td>E</td>\n",
       "      <td>E2</td>\n",
       "      <td>...</td>\n",
       "      <td>0.00</td>\n",
       "      <td>Nov-11</td>\n",
       "      <td>0.0</td>\n",
       "      <td>1</td>\n",
       "      <td>INDIVIDUAL</td>\n",
       "      <td>0</td>\n",
       "      <td>0.0</td>\n",
       "      <td>0</td>\n",
       "      <td>0.0</td>\n",
       "      <td>0.0</td>\n",
       "    </tr>\n",
       "    <tr>\n",
       "      <th>14839</th>\n",
       "      <td>759372</td>\n",
       "      <td>932652</td>\n",
       "      <td>1000</td>\n",
       "      <td>1000</td>\n",
       "      <td>1000.0</td>\n",
       "      <td>36 months</td>\n",
       "      <td>13.43%</td>\n",
       "      <td>33.91</td>\n",
       "      <td>C</td>\n",
       "      <td>C3</td>\n",
       "      <td>...</td>\n",
       "      <td>0.00</td>\n",
       "      <td>May-16</td>\n",
       "      <td>0.0</td>\n",
       "      <td>1</td>\n",
       "      <td>INDIVIDUAL</td>\n",
       "      <td>0</td>\n",
       "      <td>0.0</td>\n",
       "      <td>0</td>\n",
       "      <td>0.0</td>\n",
       "      <td>0.0</td>\n",
       "    </tr>\n",
       "    <tr>\n",
       "      <th>16719</th>\n",
       "      <td>727583</td>\n",
       "      <td>923109</td>\n",
       "      <td>5550</td>\n",
       "      <td>5550</td>\n",
       "      <td>5550.0</td>\n",
       "      <td>60 months</td>\n",
       "      <td>13.06%</td>\n",
       "      <td>126.46</td>\n",
       "      <td>C</td>\n",
       "      <td>C2</td>\n",
       "      <td>...</td>\n",
       "      <td>0.00</td>\n",
       "      <td>May-11</td>\n",
       "      <td>0.0</td>\n",
       "      <td>1</td>\n",
       "      <td>INDIVIDUAL</td>\n",
       "      <td>0</td>\n",
       "      <td>0.0</td>\n",
       "      <td>0</td>\n",
       "      <td>0.0</td>\n",
       "      <td>0.0</td>\n",
       "    </tr>\n",
       "    <tr>\n",
       "      <th>...</th>\n",
       "      <td>...</td>\n",
       "      <td>...</td>\n",
       "      <td>...</td>\n",
       "      <td>...</td>\n",
       "      <td>...</td>\n",
       "      <td>...</td>\n",
       "      <td>...</td>\n",
       "      <td>...</td>\n",
       "      <td>...</td>\n",
       "      <td>...</td>\n",
       "      <td>...</td>\n",
       "      <td>...</td>\n",
       "      <td>...</td>\n",
       "      <td>...</td>\n",
       "      <td>...</td>\n",
       "      <td>...</td>\n",
       "      <td>...</td>\n",
       "      <td>...</td>\n",
       "      <td>...</td>\n",
       "      <td>...</td>\n",
       "      <td>...</td>\n",
       "    </tr>\n",
       "    <tr>\n",
       "      <th>39712</th>\n",
       "      <td>92187</td>\n",
       "      <td>92174</td>\n",
       "      <td>2500</td>\n",
       "      <td>2500</td>\n",
       "      <td>1075.0</td>\n",
       "      <td>36 months</td>\n",
       "      <td>8.07%</td>\n",
       "      <td>78.42</td>\n",
       "      <td>A</td>\n",
       "      <td>A4</td>\n",
       "      <td>...</td>\n",
       "      <td>80.90</td>\n",
       "      <td>Jun-10</td>\n",
       "      <td>NaN</td>\n",
       "      <td>1</td>\n",
       "      <td>INDIVIDUAL</td>\n",
       "      <td>0</td>\n",
       "      <td>NaN</td>\n",
       "      <td>0</td>\n",
       "      <td>NaN</td>\n",
       "      <td>NaN</td>\n",
       "    </tr>\n",
       "    <tr>\n",
       "      <th>39713</th>\n",
       "      <td>90665</td>\n",
       "      <td>90607</td>\n",
       "      <td>8500</td>\n",
       "      <td>8500</td>\n",
       "      <td>875.0</td>\n",
       "      <td>36 months</td>\n",
       "      <td>10.28%</td>\n",
       "      <td>275.38</td>\n",
       "      <td>C</td>\n",
       "      <td>C1</td>\n",
       "      <td>...</td>\n",
       "      <td>281.94</td>\n",
       "      <td>Jul-10</td>\n",
       "      <td>NaN</td>\n",
       "      <td>1</td>\n",
       "      <td>INDIVIDUAL</td>\n",
       "      <td>0</td>\n",
       "      <td>NaN</td>\n",
       "      <td>0</td>\n",
       "      <td>NaN</td>\n",
       "      <td>NaN</td>\n",
       "    </tr>\n",
       "    <tr>\n",
       "      <th>39714</th>\n",
       "      <td>90395</td>\n",
       "      <td>90390</td>\n",
       "      <td>5000</td>\n",
       "      <td>5000</td>\n",
       "      <td>1325.0</td>\n",
       "      <td>36 months</td>\n",
       "      <td>8.07%</td>\n",
       "      <td>156.84</td>\n",
       "      <td>A</td>\n",
       "      <td>A4</td>\n",
       "      <td>...</td>\n",
       "      <td>0.00</td>\n",
       "      <td>Jun-07</td>\n",
       "      <td>NaN</td>\n",
       "      <td>1</td>\n",
       "      <td>INDIVIDUAL</td>\n",
       "      <td>0</td>\n",
       "      <td>NaN</td>\n",
       "      <td>0</td>\n",
       "      <td>NaN</td>\n",
       "      <td>NaN</td>\n",
       "    </tr>\n",
       "    <tr>\n",
       "      <th>39715</th>\n",
       "      <td>90376</td>\n",
       "      <td>89243</td>\n",
       "      <td>5000</td>\n",
       "      <td>5000</td>\n",
       "      <td>650.0</td>\n",
       "      <td>36 months</td>\n",
       "      <td>7.43%</td>\n",
       "      <td>155.38</td>\n",
       "      <td>A</td>\n",
       "      <td>A2</td>\n",
       "      <td>...</td>\n",
       "      <td>0.00</td>\n",
       "      <td>Jun-07</td>\n",
       "      <td>NaN</td>\n",
       "      <td>1</td>\n",
       "      <td>INDIVIDUAL</td>\n",
       "      <td>0</td>\n",
       "      <td>NaN</td>\n",
       "      <td>0</td>\n",
       "      <td>NaN</td>\n",
       "      <td>NaN</td>\n",
       "    </tr>\n",
       "    <tr>\n",
       "      <th>39716</th>\n",
       "      <td>87023</td>\n",
       "      <td>86999</td>\n",
       "      <td>7500</td>\n",
       "      <td>7500</td>\n",
       "      <td>800.0</td>\n",
       "      <td>36 months</td>\n",
       "      <td>13.75%</td>\n",
       "      <td>255.43</td>\n",
       "      <td>E</td>\n",
       "      <td>E2</td>\n",
       "      <td>...</td>\n",
       "      <td>256.59</td>\n",
       "      <td>Jun-10</td>\n",
       "      <td>NaN</td>\n",
       "      <td>1</td>\n",
       "      <td>INDIVIDUAL</td>\n",
       "      <td>0</td>\n",
       "      <td>NaN</td>\n",
       "      <td>0</td>\n",
       "      <td>NaN</td>\n",
       "      <td>NaN</td>\n",
       "    </tr>\n",
       "  </tbody>\n",
       "</table>\n",
       "<p>70 rows × 53 columns</p>\n",
       "</div>"
      ],
      "text/plain": [
       "           id  member_id  loan_amnt  funded_amnt  funded_amnt_inv        term  \\\n",
       "4714   997734    1222858       6100         6100           6100.0   36 months   \n",
       "11282  817195    1024992       5000         5000           5000.0   36 months   \n",
       "13891  772732     974723       2000         2000           1900.0   36 months   \n",
       "14839  759372     932652       1000         1000           1000.0   36 months   \n",
       "16719  727583     923109       5550         5550           5550.0   60 months   \n",
       "...       ...        ...        ...          ...              ...         ...   \n",
       "39712   92187      92174       2500         2500           1075.0   36 months   \n",
       "39713   90665      90607       8500         8500            875.0   36 months   \n",
       "39714   90395      90390       5000         5000           1325.0   36 months   \n",
       "39715   90376      89243       5000         5000            650.0   36 months   \n",
       "39716   87023      86999       7500         7500            800.0   36 months   \n",
       "\n",
       "      int_rate  installment grade sub_grade  ... last_pymnt_amnt  \\\n",
       "4714    14.27%       209.29     C        C2  ...          209.29   \n",
       "11282   21.36%       189.31     F        F4  ...          204.01   \n",
       "13891   18.39%        72.70     E        E2  ...            0.00   \n",
       "14839   13.43%        33.91     C        C3  ...            0.00   \n",
       "16719   13.06%       126.46     C        C2  ...            0.00   \n",
       "...        ...          ...   ...       ...  ...             ...   \n",
       "39712    8.07%        78.42     A        A4  ...           80.90   \n",
       "39713   10.28%       275.38     C        C1  ...          281.94   \n",
       "39714    8.07%       156.84     A        A4  ...            0.00   \n",
       "39715    7.43%       155.38     A        A2  ...            0.00   \n",
       "39716   13.75%       255.43     E        E2  ...          256.59   \n",
       "\n",
       "      last_credit_pull_d collections_12_mths_ex_med  policy_code  \\\n",
       "4714              Nov-12                        0.0            1   \n",
       "11282             Feb-15                        0.0            1   \n",
       "13891             Nov-11                        0.0            1   \n",
       "14839             May-16                        0.0            1   \n",
       "16719             May-11                        0.0            1   \n",
       "...                  ...                        ...          ...   \n",
       "39712             Jun-10                        NaN            1   \n",
       "39713             Jul-10                        NaN            1   \n",
       "39714             Jun-07                        NaN            1   \n",
       "39715             Jun-07                        NaN            1   \n",
       "39716             Jun-10                        NaN            1   \n",
       "\n",
       "      application_type acc_now_delinq chargeoff_within_12_mths delinq_amnt  \\\n",
       "4714        INDIVIDUAL              0                      0.0           0   \n",
       "11282       INDIVIDUAL              0                      0.0           0   \n",
       "13891       INDIVIDUAL              0                      0.0           0   \n",
       "14839       INDIVIDUAL              0                      0.0           0   \n",
       "16719       INDIVIDUAL              0                      0.0           0   \n",
       "...                ...            ...                      ...         ...   \n",
       "39712       INDIVIDUAL              0                      NaN           0   \n",
       "39713       INDIVIDUAL              0                      NaN           0   \n",
       "39714       INDIVIDUAL              0                      NaN           0   \n",
       "39715       INDIVIDUAL              0                      NaN           0   \n",
       "39716       INDIVIDUAL              0                      NaN           0   \n",
       "\n",
       "      pub_rec_bankruptcies tax_liens  \n",
       "4714                   0.0       0.0  \n",
       "11282                  0.0       0.0  \n",
       "13891                  0.0       0.0  \n",
       "14839                  0.0       0.0  \n",
       "16719                  0.0       0.0  \n",
       "...                    ...       ...  \n",
       "39712                  NaN       NaN  \n",
       "39713                  NaN       NaN  \n",
       "39714                  NaN       NaN  \n",
       "39715                  NaN       NaN  \n",
       "39716                  NaN       NaN  \n",
       "\n",
       "[70 rows x 53 columns]"
      ]
     },
     "execution_count": 18,
     "metadata": {},
     "output_type": "execute_result"
    }
   ],
   "source": [
    "# we filter rows where the count of null values is greater than 1.\n",
    "rows_with_more_than_1_nulls\n"
   ]
  },
  {
   "cell_type": "code",
   "execution_count": 19,
   "id": "5c7b9798-8c39-4793-836e-db87f2e85e8f",
   "metadata": {},
   "outputs": [],
   "source": [
    "# Dropping rows with more than 1 null values\n",
    "loan.dropna(thresh = 1, inplace = True)"
   ]
  },
  {
   "cell_type": "code",
   "execution_count": 20,
   "id": "9ca77f24-56d0-478a-af55-b94b9390b44a",
   "metadata": {},
   "outputs": [
    {
     "data": {
      "text/plain": [
       "2057"
      ]
     },
     "execution_count": 20,
     "metadata": {},
     "output_type": "execute_result"
    }
   ],
   "source": [
    "loan.isnull().sum().sum()"
   ]
  },
  {
   "cell_type": "code",
   "execution_count": 21,
   "id": "06fe7629-8cfe-4860-b38f-8572bcd8e1f8",
   "metadata": {},
   "outputs": [],
   "source": [
    "# Drop rows with any null values.\n",
    "# Now, all rows with any null values have been dropped from the dataframe 'loan'.\n",
    "loan.dropna(inplace = True)"
   ]
  },
  {
   "cell_type": "code",
   "execution_count": 22,
   "id": "0c518a04-a35a-4786-82b4-63f4a91b5be4",
   "metadata": {},
   "outputs": [
    {
     "data": {
      "text/plain": [
       "0"
      ]
     },
     "execution_count": 22,
     "metadata": {},
     "output_type": "execute_result"
    }
   ],
   "source": [
    "loan.isnull().sum().sum()"
   ]
  },
  {
   "cell_type": "code",
   "execution_count": 23,
   "id": "40d63efe-e2c7-43bb-a8b8-8c7b45fbe158",
   "metadata": {},
   "outputs": [
    {
     "data": {
      "text/plain": [
       "(37823, 53)"
      ]
     },
     "execution_count": 23,
     "metadata": {},
     "output_type": "execute_result"
    }
   ],
   "source": [
    "loan.shape"
   ]
  },
  {
   "cell_type": "markdown",
   "id": "26b4345b-3557-4a8d-a3c9-bdab2f080112",
   "metadata": {},
   "source": [
    "### Hnadling Outliers"
   ]
  },
  {
   "cell_type": "markdown",
   "id": "74341f06-a64a-472f-ab58-ef1e95aaeb67",
   "metadata": {},
   "source": [
    "### Annual Income"
   ]
  },
  {
   "cell_type": "code",
   "execution_count": 24,
   "id": "baab48c7-d9f5-422a-bc9b-86be882f9c63",
   "metadata": {},
   "outputs": [
    {
     "data": {
      "text/plain": [
       "count    3.782300e+04\n",
       "mean     6.967727e+04\n",
       "std      6.365142e+04\n",
       "min      4.000000e+03\n",
       "25%      4.190200e+04\n",
       "50%      6.000000e+04\n",
       "75%      8.355000e+04\n",
       "max      6.000000e+06\n",
       "Name: annual_inc, dtype: float64"
      ]
     },
     "execution_count": 24,
     "metadata": {},
     "output_type": "execute_result"
    }
   ],
   "source": [
    "# the annual_inc variable in loan.\n",
    "loan.annual_inc.describe()\n"
   ]
  },
  {
   "cell_type": "code",
   "execution_count": 25,
   "id": "505b6daf-567c-4213-89d3-f3f943ec630e",
   "metadata": {},
   "outputs": [
    {
     "data": {
      "image/png": "[encoded data removed]",
      "text/plain": [
       "<Figure size 600x400 with 1 Axes>"
      ]
     },
     "metadata": {},
     "output_type": "display_data"
    }
   ],
   "source": [
    "# the boxplot of annual_inc variable.\n",
    "plt.figure(figsize = [6,4])\n",
    "sns.boxplot(loan.annual_inc)\n",
    "plt.show()\n"
   ]
  },
  {
   "cell_type": "code",
   "execution_count": 26,
   "id": "5dade7d6-01cb-4704-8f0c-27f085fc0f82",
   "metadata": {},
   "outputs": [
    {
     "data": {
      "text/plain": [
       "0.50     60000.0\n",
       "0.70     77000.0\n",
       "0.90    117242.8\n",
       "0.95    143950.0\n",
       "0.99    235000.0\n",
       "Name: annual_inc, dtype: float64"
      ]
     },
     "execution_count": 26,
     "metadata": {},
     "output_type": "execute_result"
    }
   ],
   "source": [
    "#print the quantile (0.5, 0.7, 0.9, 0.95 and 0.99) of annual_inc variable\n",
    "loan.annual_inc.quantile([0.5, 0.7, 0.9, 0.95, 0.99])\n"
   ]
  },
  {
   "cell_type": "code",
   "execution_count": 27,
   "id": "773de0f4-226b-451c-a920-7552440d42ac",
   "metadata": {},
   "outputs": [
    {
     "data": {
      "text/plain": [
       "count    3.520000e+02\n",
       "mean     4.199938e+05\n",
       "std      4.217453e+05\n",
       "min      2.407340e+05\n",
       "25%      2.700000e+05\n",
       "50%      3.000000e+05\n",
       "75%      4.000000e+05\n",
       "max      6.000000e+06\n",
       "Name: annual_inc, dtype: float64"
      ]
     },
     "execution_count": 27,
     "metadata": {},
     "output_type": "execute_result"
    }
   ],
   "source": [
    "loan[\"annual_inc\"][loan.annual_inc > 240000].describe()\n"
   ]
  },
  {
   "cell_type": "code",
   "execution_count": null,
   "id": "537aeb9e",
   "metadata": {},
   "outputs": [],
   "source": []
  },
  {
   "cell_type": "markdown",
   "id": "f76c7d7d-0294-4f64-9060-350bcaff86a7",
   "metadata": {},
   "source": [
    "### Loan Amount"
   ]
  },
  {
   "cell_type": "code",
   "execution_count": 28,
   "id": "9ec11018-dbab-4e88-82bc-ebb7cf2b9d06",
   "metadata": {},
   "outputs": [
    {
     "data": {
      "text/plain": [
       "count    37823.000000\n",
       "mean     11328.891151\n",
       "std       7477.323047\n",
       "min        500.000000\n",
       "25%       5600.000000\n",
       "50%      10000.000000\n",
       "75%      15000.000000\n",
       "max      35000.000000\n",
       "Name: loan_amnt, dtype: float64"
      ]
     },
     "execution_count": 28,
     "metadata": {},
     "output_type": "execute_result"
    }
   ],
   "source": [
    "#describe the loan amount variable in loan.\n",
    "loan.loan_amnt.describe()\n"
   ]
  },
  {
   "cell_type": "code",
   "execution_count": 29,
   "id": "4d40252e-3171-4ef1-a4ba-949e60c22231",
   "metadata": {},
   "outputs": [
    {
     "data": {
      "image/png": "[encoded data removed]",
      "text/plain": [
       "<Figure size 600x400 with 1 Axes>"
      ]
     },
     "metadata": {},
     "output_type": "display_data"
    }
   ],
   "source": [
    "# the boxplot of loan amount variable.\n",
    "plt.figure(figsize = [6,4])\n",
    "sns.boxplot(loan.loan_amnt)\n",
    "plt.show()"
   ]
  },
  {
   "cell_type": "code",
   "execution_count": 30,
   "id": "5b1baf27-102d-41cd-b98a-550379208658",
   "metadata": {},
   "outputs": [
    {
     "data": {
      "text/html": [
       "<div>\n",
       "<style scoped>\n",
       "    .dataframe tbody tr th:only-of-type {\n",
       "        vertical-align: middle;\n",
       "    }\n",
       "\n",
       "    .dataframe tbody tr th {\n",
       "        vertical-align: top;\n",
       "    }\n",
       "\n",
       "    .dataframe thead th {\n",
       "        text-align: right;\n",
       "    }\n",
       "</style>\n",
       "<table border=\"1\" class=\"dataframe\">\n",
       "  <thead>\n",
       "    <tr style=\"text-align: right;\">\n",
       "      <th></th>\n",
       "      <th>id</th>\n",
       "      <th>member_id</th>\n",
       "      <th>loan_amnt</th>\n",
       "      <th>funded_amnt</th>\n",
       "      <th>funded_amnt_inv</th>\n",
       "      <th>installment</th>\n",
       "      <th>annual_inc</th>\n",
       "      <th>dti</th>\n",
       "      <th>delinq_2yrs</th>\n",
       "      <th>inq_last_6mths</th>\n",
       "      <th>...</th>\n",
       "      <th>recoveries</th>\n",
       "      <th>collection_recovery_fee</th>\n",
       "      <th>last_pymnt_amnt</th>\n",
       "      <th>collections_12_mths_ex_med</th>\n",
       "      <th>policy_code</th>\n",
       "      <th>acc_now_delinq</th>\n",
       "      <th>chargeoff_within_12_mths</th>\n",
       "      <th>delinq_amnt</th>\n",
       "      <th>pub_rec_bankruptcies</th>\n",
       "      <th>tax_liens</th>\n",
       "    </tr>\n",
       "  </thead>\n",
       "  <tbody>\n",
       "    <tr>\n",
       "      <th>count</th>\n",
       "      <td>3.782300e+04</td>\n",
       "      <td>3.782300e+04</td>\n",
       "      <td>37823.000000</td>\n",
       "      <td>37823.000000</td>\n",
       "      <td>37823.000000</td>\n",
       "      <td>37823.000000</td>\n",
       "      <td>3.782300e+04</td>\n",
       "      <td>37823.000000</td>\n",
       "      <td>37823.000000</td>\n",
       "      <td>37823.000000</td>\n",
       "      <td>...</td>\n",
       "      <td>37823.000000</td>\n",
       "      <td>37823.000000</td>\n",
       "      <td>37823.000000</td>\n",
       "      <td>37823.0</td>\n",
       "      <td>37823.0</td>\n",
       "      <td>37823.0</td>\n",
       "      <td>37823.0</td>\n",
       "      <td>37823.0</td>\n",
       "      <td>37823.000000</td>\n",
       "      <td>37823.0</td>\n",
       "    </tr>\n",
       "    <tr>\n",
       "      <th>mean</th>\n",
       "      <td>6.900628e+05</td>\n",
       "      <td>8.598469e+05</td>\n",
       "      <td>11328.891151</td>\n",
       "      <td>11050.996748</td>\n",
       "      <td>10619.465271</td>\n",
       "      <td>327.161001</td>\n",
       "      <td>6.967727e+04</td>\n",
       "      <td>13.377966</td>\n",
       "      <td>0.145811</td>\n",
       "      <td>0.866642</td>\n",
       "      <td>...</td>\n",
       "      <td>94.574677</td>\n",
       "      <td>12.136955</td>\n",
       "      <td>2731.019060</td>\n",
       "      <td>0.0</td>\n",
       "      <td>1.0</td>\n",
       "      <td>0.0</td>\n",
       "      <td>0.0</td>\n",
       "      <td>0.0</td>\n",
       "      <td>0.041456</td>\n",
       "      <td>0.0</td>\n",
       "    </tr>\n",
       "    <tr>\n",
       "      <th>std</th>\n",
       "      <td>2.028915e+05</td>\n",
       "      <td>2.542415e+05</td>\n",
       "      <td>7477.323047</td>\n",
       "      <td>7205.152593</td>\n",
       "      <td>7113.100590</td>\n",
       "      <td>209.098263</td>\n",
       "      <td>6.365142e+04</td>\n",
       "      <td>6.655886</td>\n",
       "      <td>0.490534</td>\n",
       "      <td>1.066497</td>\n",
       "      <td>...</td>\n",
       "      <td>690.484884</td>\n",
       "      <td>148.132518</td>\n",
       "      <td>4490.079929</td>\n",
       "      <td>0.0</td>\n",
       "      <td>0.0</td>\n",
       "      <td>0.0</td>\n",
       "      <td>0.0</td>\n",
       "      <td>0.0</td>\n",
       "      <td>0.200272</td>\n",
       "      <td>0.0</td>\n",
       "    </tr>\n",
       "    <tr>\n",
       "      <th>min</th>\n",
       "      <td>5.473400e+04</td>\n",
       "      <td>8.036400e+04</td>\n",
       "      <td>500.000000</td>\n",
       "      <td>500.000000</td>\n",
       "      <td>0.000000</td>\n",
       "      <td>16.080000</td>\n",
       "      <td>4.000000e+03</td>\n",
       "      <td>0.000000</td>\n",
       "      <td>0.000000</td>\n",
       "      <td>0.000000</td>\n",
       "      <td>...</td>\n",
       "      <td>0.000000</td>\n",
       "      <td>0.000000</td>\n",
       "      <td>0.010000</td>\n",
       "      <td>0.0</td>\n",
       "      <td>1.0</td>\n",
       "      <td>0.0</td>\n",
       "      <td>0.0</td>\n",
       "      <td>0.0</td>\n",
       "      <td>0.000000</td>\n",
       "      <td>0.0</td>\n",
       "    </tr>\n",
       "    <tr>\n",
       "      <th>25%</th>\n",
       "      <td>5.211055e+05</td>\n",
       "      <td>6.732465e+05</td>\n",
       "      <td>5600.000000</td>\n",
       "      <td>5500.000000</td>\n",
       "      <td>5000.000000</td>\n",
       "      <td>168.750000</td>\n",
       "      <td>4.190200e+04</td>\n",
       "      <td>8.270000</td>\n",
       "      <td>0.000000</td>\n",
       "      <td>0.000000</td>\n",
       "      <td>...</td>\n",
       "      <td>0.000000</td>\n",
       "      <td>0.000000</td>\n",
       "      <td>224.810000</td>\n",
       "      <td>0.0</td>\n",
       "      <td>1.0</td>\n",
       "      <td>0.0</td>\n",
       "      <td>0.0</td>\n",
       "      <td>0.0</td>\n",
       "      <td>0.000000</td>\n",
       "      <td>0.0</td>\n",
       "    </tr>\n",
       "    <tr>\n",
       "      <th>50%</th>\n",
       "      <td>6.694130e+05</td>\n",
       "      <td>8.556700e+05</td>\n",
       "      <td>10000.000000</td>\n",
       "      <td>10000.000000</td>\n",
       "      <td>9200.000000</td>\n",
       "      <td>283.200000</td>\n",
       "      <td>6.000000e+04</td>\n",
       "      <td>13.470000</td>\n",
       "      <td>0.000000</td>\n",
       "      <td>1.000000</td>\n",
       "      <td>...</td>\n",
       "      <td>0.000000</td>\n",
       "      <td>0.000000</td>\n",
       "      <td>563.550000</td>\n",
       "      <td>0.0</td>\n",
       "      <td>1.0</td>\n",
       "      <td>0.0</td>\n",
       "      <td>0.0</td>\n",
       "      <td>0.0</td>\n",
       "      <td>0.000000</td>\n",
       "      <td>0.0</td>\n",
       "    </tr>\n",
       "    <tr>\n",
       "      <th>75%</th>\n",
       "      <td>8.393200e+05</td>\n",
       "      <td>1.049090e+06</td>\n",
       "      <td>15000.000000</td>\n",
       "      <td>15000.000000</td>\n",
       "      <td>14608.725420</td>\n",
       "      <td>434.750000</td>\n",
       "      <td>8.355000e+04</td>\n",
       "      <td>18.630000</td>\n",
       "      <td>0.000000</td>\n",
       "      <td>1.000000</td>\n",
       "      <td>...</td>\n",
       "      <td>0.000000</td>\n",
       "      <td>0.000000</td>\n",
       "      <td>3402.630000</td>\n",
       "      <td>0.0</td>\n",
       "      <td>1.0</td>\n",
       "      <td>0.0</td>\n",
       "      <td>0.0</td>\n",
       "      <td>0.0</td>\n",
       "      <td>0.000000</td>\n",
       "      <td>0.0</td>\n",
       "    </tr>\n",
       "    <tr>\n",
       "      <th>max</th>\n",
       "      <td>1.077501e+06</td>\n",
       "      <td>1.314167e+06</td>\n",
       "      <td>35000.000000</td>\n",
       "      <td>35000.000000</td>\n",
       "      <td>35000.000000</td>\n",
       "      <td>1305.190000</td>\n",
       "      <td>6.000000e+06</td>\n",
       "      <td>29.990000</td>\n",
       "      <td>11.000000</td>\n",
       "      <td>8.000000</td>\n",
       "      <td>...</td>\n",
       "      <td>29623.350000</td>\n",
       "      <td>7002.190000</td>\n",
       "      <td>36115.200000</td>\n",
       "      <td>0.0</td>\n",
       "      <td>1.0</td>\n",
       "      <td>0.0</td>\n",
       "      <td>0.0</td>\n",
       "      <td>0.0</td>\n",
       "      <td>2.000000</td>\n",
       "      <td>0.0</td>\n",
       "    </tr>\n",
       "  </tbody>\n",
       "</table>\n",
       "<p>8 rows × 31 columns</p>\n",
       "</div>"
      ],
      "text/plain": [
       "                 id     member_id     loan_amnt   funded_amnt  \\\n",
       "count  3.782300e+04  3.782300e+04  37823.000000  37823.000000   \n",
       "mean   6.900628e+05  8.598469e+05  11328.891151  11050.996748   \n",
       "std    2.028915e+05  2.542415e+05   7477.323047   7205.152593   \n",
       "min    5.473400e+04  8.036400e+04    500.000000    500.000000   \n",
       "25%    5.211055e+05  6.732465e+05   5600.000000   5500.000000   \n",
       "50%    6.694130e+05  8.556700e+05  10000.000000  10000.000000   \n",
       "75%    8.393200e+05  1.049090e+06  15000.000000  15000.000000   \n",
       "max    1.077501e+06  1.314167e+06  35000.000000  35000.000000   \n",
       "\n",
       "       funded_amnt_inv   installment    annual_inc           dti  \\\n",
       "count     37823.000000  37823.000000  3.782300e+04  37823.000000   \n",
       "mean      10619.465271    327.161001  6.967727e+04     13.377966   \n",
       "std        7113.100590    209.098263  6.365142e+04      6.655886   \n",
       "min           0.000000     16.080000  4.000000e+03      0.000000   \n",
       "25%        5000.000000    168.750000  4.190200e+04      8.270000   \n",
       "50%        9200.000000    283.200000  6.000000e+04     13.470000   \n",
       "75%       14608.725420    434.750000  8.355000e+04     18.630000   \n",
       "max       35000.000000   1305.190000  6.000000e+06     29.990000   \n",
       "\n",
       "        delinq_2yrs  inq_last_6mths  ...    recoveries  \\\n",
       "count  37823.000000    37823.000000  ...  37823.000000   \n",
       "mean       0.145811        0.866642  ...     94.574677   \n",
       "std        0.490534        1.066497  ...    690.484884   \n",
       "min        0.000000        0.000000  ...      0.000000   \n",
       "25%        0.000000        0.000000  ...      0.000000   \n",
       "50%        0.000000        1.000000  ...      0.000000   \n",
       "75%        0.000000        1.000000  ...      0.000000   \n",
       "max       11.000000        8.000000  ...  29623.350000   \n",
       "\n",
       "       collection_recovery_fee  last_pymnt_amnt  collections_12_mths_ex_med  \\\n",
       "count             37823.000000     37823.000000                     37823.0   \n",
       "mean                 12.136955      2731.019060                         0.0   \n",
       "std                 148.132518      4490.079929                         0.0   \n",
       "min                   0.000000         0.010000                         0.0   \n",
       "25%                   0.000000       224.810000                         0.0   \n",
       "50%                   0.000000       563.550000                         0.0   \n",
       "75%                   0.000000      3402.630000                         0.0   \n",
       "max                7002.190000     36115.200000                         0.0   \n",
       "\n",
       "       policy_code  acc_now_delinq  chargeoff_within_12_mths  delinq_amnt  \\\n",
       "count      37823.0         37823.0                   37823.0      37823.0   \n",
       "mean           1.0             0.0                       0.0          0.0   \n",
       "std            0.0             0.0                       0.0          0.0   \n",
       "min            1.0             0.0                       0.0          0.0   \n",
       "25%            1.0             0.0                       0.0          0.0   \n",
       "50%            1.0             0.0                       0.0          0.0   \n",
       "75%            1.0             0.0                       0.0          0.0   \n",
       "max            1.0             0.0                       0.0          0.0   \n",
       "\n",
       "       pub_rec_bankruptcies  tax_liens  \n",
       "count          37823.000000    37823.0  \n",
       "mean               0.041456        0.0  \n",
       "std                0.200272        0.0  \n",
       "min                0.000000        0.0  \n",
       "25%                0.000000        0.0  \n",
       "50%                0.000000        0.0  \n",
       "75%                0.000000        0.0  \n",
       "max                2.000000        0.0  \n",
       "\n",
       "[8 rows x 31 columns]"
      ]
     },
     "execution_count": 30,
     "metadata": {},
     "output_type": "execute_result"
    }
   ],
   "source": [
    "loan.describe()"
   ]
  },
  {
   "cell_type": "markdown",
   "id": "51d577cc-e2a6-4738-940e-120af889a438",
   "metadata": {},
   "source": [
    "### Loan Status"
   ]
  },
  {
   "cell_type": "code",
   "execution_count": 31,
   "id": "2457a59e-6602-4e61-b1e5-f1d4b461a460",
   "metadata": {},
   "outputs": [
    {
     "data": {
      "text/plain": [
       "loan_status\n",
       "Fully Paid     31524\n",
       "Charged Off     5201\n",
       "Current         1098\n",
       "Name: count, dtype: int64"
      ]
     },
     "execution_count": 31,
     "metadata": {},
     "output_type": "execute_result"
    }
   ],
   "source": [
    "loan.loan_status.value_counts()\n"
   ]
  },
  {
   "cell_type": "code",
   "execution_count": 32,
   "id": "64a89009-ba1a-4e2f-bb01-5484a2d4b3a4",
   "metadata": {},
   "outputs": [
    {
     "data": {
      "text/plain": [
       "loan_status\n",
       "Fully Paid     83.35\n",
       "Charged Off    13.75\n",
       "Current         2.90\n",
       "Name: proportion, dtype: float64"
      ]
     },
     "execution_count": 32,
     "metadata": {},
     "output_type": "execute_result"
    }
   ],
   "source": [
    "round(100*loan.loan_status.value_counts(normalize = True),2)"
   ]
  },
  {
   "cell_type": "code",
   "execution_count": 33,
   "id": "3a788a76-47cc-4b70-a40c-16fb13f06146",
   "metadata": {},
   "outputs": [
    {
     "data": {
      "image/png": "[encoded data removed]",
      "text/plain": [
       "<Figure size 640x480 with 1 Axes>"
      ]
     },
     "metadata": {},
     "output_type": "display_data"
    }
   ],
   "source": [
    "#plot the bar chart of percentage loan status categories\n",
    "round(100*loan.loan_status.value_counts(normalize = True),2).plot.bar(color = ['orange','green','maroon'])\n",
    "plt.show()"
   ]
  },
  {
   "cell_type": "code",
   "execution_count": 34,
   "id": "f5d937ba-e569-4611-98eb-93c226ef5f3e",
   "metadata": {},
   "outputs": [],
   "source": [
    "### Term"
   ]
  },
  {
   "cell_type": "code",
   "execution_count": 35,
   "id": "840fd352-9e89-4db1-9fc1-6fddafcaea96",
   "metadata": {},
   "outputs": [
    {
     "data": {
      "text/plain": [
       "term\n",
       " 36 months    27489\n",
       " 60 months    10334\n",
       "Name: count, dtype: int64"
      ]
     },
     "execution_count": 35,
     "metadata": {},
     "output_type": "execute_result"
    }
   ],
   "source": [
    "loan.term.value_counts()\n"
   ]
  },
  {
   "cell_type": "code",
   "execution_count": 36,
   "id": "e20fbea1-b84a-4c13-98b5-2d7e13da58f0",
   "metadata": {},
   "outputs": [
    {
     "data": {
      "image/png": "[encoded data removed]",
      "text/plain": [
       "<Figure size 640x480 with 1 Axes>"
      ]
     },
     "metadata": {},
     "output_type": "display_data"
    }
   ],
   "source": [
    "#plot the bar chart of percentage term categories\n",
    "round(100*loan.term.value_counts(normalize = True),2).plot.bar(color = ['blue','maroon'])\n",
    "plt.show()"
   ]
  },
  {
   "cell_type": "markdown",
   "id": "e2781f54-7f7f-44dc-9655-34baf3285130",
   "metadata": {},
   "source": [
    "### Home Ownership"
   ]
  },
  {
   "cell_type": "code",
   "execution_count": 37,
   "id": "16129c52-eb7c-4dff-9e82-6020b0bd3952",
   "metadata": {},
   "outputs": [
    {
     "data": {
      "text/plain": [
       "home_ownership\n",
       "RENT        18026\n",
       "MORTGAGE    16933\n",
       "OWN          2768\n",
       "OTHER          96\n",
       "Name: count, dtype: int64"
      ]
     },
     "execution_count": 37,
     "metadata": {},
     "output_type": "execute_result"
    }
   ],
   "source": [
    "loan.home_ownership.value_counts()"
   ]
  },
  {
   "cell_type": "code",
   "execution_count": 38,
   "id": "5ded65fe-a3f2-49ef-8cf4-18075030de48",
   "metadata": {},
   "outputs": [
    {
     "data": {
      "image/png": "[encoded data removed]",
      "text/plain": [
       "<Figure size 640x480 with 1 Axes>"
      ]
     },
     "metadata": {},
     "output_type": "display_data"
    }
   ],
   "source": [
    "# the bar chart of percentage home_ownership categories\n",
    "round(100*loan.home_ownership.value_counts(normalize = True),2).plot.bar(color = ['blue','pink','green','black'])\n",
    "plt.show()\n"
   ]
  },
  {
   "cell_type": "markdown",
   "id": "42272e1c-949e-4b72-9e49-e4e0dd2dd79d",
   "metadata": {},
   "source": [
    "### Verification Status"
   ]
  },
  {
   "cell_type": "code",
   "execution_count": 39,
   "id": "1b6bb895-80b2-471e-9161-658df05760dd",
   "metadata": {},
   "outputs": [
    {
     "data": {
      "text/plain": [
       "verification_status\n",
       "Not Verified       15735\n",
       "Verified           12325\n",
       "Source Verified     9763\n",
       "Name: count, dtype: int64"
      ]
     },
     "execution_count": 39,
     "metadata": {},
     "output_type": "execute_result"
    }
   ],
   "source": [
    "loan.verification_status.value_counts()\n"
   ]
  },
  {
   "cell_type": "code",
   "execution_count": 40,
   "id": "bb8d699f-f2ab-4a1a-a76c-52fabfe18147",
   "metadata": {},
   "outputs": [
    {
     "data": {
      "text/plain": [
       "verification_status\n",
       "Not Verified       41.60\n",
       "Verified           32.59\n",
       "Source Verified    25.81\n",
       "Name: proportion, dtype: float64"
      ]
     },
     "execution_count": 40,
     "metadata": {},
     "output_type": "execute_result"
    }
   ],
   "source": [
    "# the percentage of each verification_status category.\n",
    "round(100 * loan.verification_status.value_counts(normalize = True),2)\n"
   ]
  },
  {
   "cell_type": "code",
   "execution_count": 41,
   "id": "0877d457-05b0-4252-b82e-e91e546afa2d",
   "metadata": {},
   "outputs": [
    {
     "data": {
      "image/png": "[encoded data removed]",
      "text/plain": [
       "<Figure size 640x480 with 1 Axes>"
      ]
     },
     "metadata": {},
     "output_type": "display_data"
    }
   ],
   "source": [
    "# the pie chart of verification_status categories\n",
    "round(100 * loan.verification_status.value_counts(normalize = True),2).plot.pie(colors = ['red','green','yellow'], autopct = '%0.1f%%')\n",
    "plt.show()"
   ]
  },
  {
   "cell_type": "markdown",
   "id": "5ed442bd-613f-426e-9948-3f825995f9f0",
   "metadata": {},
   "source": [
    "### Employment Length (in years)\n"
   ]
  },
  {
   "cell_type": "markdown",
   "id": "3aef72c0-2472-4bb4-b5e0-dc32b255c22e",
   "metadata": {},
   "source": [
    " Possible values are between 0 and 10 where 0 means less than one year and 10 means ten or more years."
   ]
  },
  {
   "cell_type": "code",
   "execution_count": 42,
   "id": "3577d1bd-35eb-49f8-be2d-bc199cb39a3f",
   "metadata": {},
   "outputs": [
    {
     "data": {
      "text/plain": [
       "emp_length\n",
       "10+ years    8749\n",
       "< 1 year     4396\n",
       "2 years      4291\n",
       "3 years      4023\n",
       "4 years      3375\n",
       "5 years      3233\n",
       "1 year       3132\n",
       "6 years      2192\n",
       "7 years      1746\n",
       "8 years      1449\n",
       "9 years      1237\n",
       "Name: count, dtype: int64"
      ]
     },
     "execution_count": 42,
     "metadata": {},
     "output_type": "execute_result"
    }
   ],
   "source": [
    "loan.emp_length.value_counts()\n"
   ]
  },
  {
   "cell_type": "code",
   "execution_count": 43,
   "id": "baf99158-19f8-407f-981a-e7a07faf85af",
   "metadata": {},
   "outputs": [
    {
     "data": {
      "text/plain": [
       "emp_length\n",
       "10+ years    23.13\n",
       "< 1 year     11.62\n",
       "2 years      11.34\n",
       "3 years      10.64\n",
       "4 years       8.92\n",
       "5 years       8.55\n",
       "1 year        8.28\n",
       "6 years       5.80\n",
       "7 years       4.62\n",
       "8 years       3.83\n",
       "9 years       3.27\n",
       "Name: proportion, dtype: float64"
      ]
     },
     "execution_count": 43,
     "metadata": {},
     "output_type": "execute_result"
    }
   ],
   "source": [
    "# the percentage of each verification_status category.\n",
    "round(100 * loan.emp_length.value_counts(normalize = True),2)"
   ]
  },
  {
   "cell_type": "code",
   "execution_count": 44,
   "id": "920adaa8-e7e2-4fcf-9492-9ea6774e7400",
   "metadata": {},
   "outputs": [
    {
     "data": {
      "image/png": "[encoded data removed]",
      "text/plain": [
       "<Figure size 640x480 with 1 Axes>"
      ]
     },
     "metadata": {},
     "output_type": "display_data"
    }
   ],
   "source": [
    "# the bar chart of percentage home_ownership categories\n",
    "round(100*loan.emp_length.value_counts(normalize = True),2).plot.bar(color = 'g')\n",
    "plt.show()"
   ]
  },
  {
   "cell_type": "markdown",
   "id": "7c666d4a-1358-4ad2-b0e6-09f1a02752c6",
   "metadata": {},
   "source": [
    "### A new dataframe is created where the data of loan status- charged off is present"
   ]
  },
  {
   "cell_type": "code",
   "execution_count": 45,
   "id": "1e0ce30e-e3a8-411f-9ffd-bb87514324e1",
   "metadata": {},
   "outputs": [
    {
     "data": {
      "text/html": [
       "<div>\n",
       "<style scoped>\n",
       "    .dataframe tbody tr th:only-of-type {\n",
       "        vertical-align: middle;\n",
       "    }\n",
       "\n",
       "    .dataframe tbody tr th {\n",
       "        vertical-align: top;\n",
       "    }\n",
       "\n",
       "    .dataframe thead th {\n",
       "        text-align: right;\n",
       "    }\n",
       "</style>\n",
       "<table border=\"1\" class=\"dataframe\">\n",
       "  <thead>\n",
       "    <tr style=\"text-align: right;\">\n",
       "      <th></th>\n",
       "      <th>id</th>\n",
       "      <th>member_id</th>\n",
       "      <th>loan_amnt</th>\n",
       "      <th>funded_amnt</th>\n",
       "      <th>funded_amnt_inv</th>\n",
       "      <th>term</th>\n",
       "      <th>int_rate</th>\n",
       "      <th>installment</th>\n",
       "      <th>grade</th>\n",
       "      <th>sub_grade</th>\n",
       "      <th>...</th>\n",
       "      <th>last_pymnt_amnt</th>\n",
       "      <th>last_credit_pull_d</th>\n",
       "      <th>collections_12_mths_ex_med</th>\n",
       "      <th>policy_code</th>\n",
       "      <th>application_type</th>\n",
       "      <th>acc_now_delinq</th>\n",
       "      <th>chargeoff_within_12_mths</th>\n",
       "      <th>delinq_amnt</th>\n",
       "      <th>pub_rec_bankruptcies</th>\n",
       "      <th>tax_liens</th>\n",
       "    </tr>\n",
       "  </thead>\n",
       "  <tbody>\n",
       "    <tr>\n",
       "      <th>1</th>\n",
       "      <td>1077430</td>\n",
       "      <td>1314167</td>\n",
       "      <td>2500</td>\n",
       "      <td>2500</td>\n",
       "      <td>2500.000000</td>\n",
       "      <td>60 months</td>\n",
       "      <td>15.27%</td>\n",
       "      <td>59.83</td>\n",
       "      <td>C</td>\n",
       "      <td>C4</td>\n",
       "      <td>...</td>\n",
       "      <td>119.66</td>\n",
       "      <td>Sep-13</td>\n",
       "      <td>0.0</td>\n",
       "      <td>1</td>\n",
       "      <td>INDIVIDUAL</td>\n",
       "      <td>0</td>\n",
       "      <td>0.0</td>\n",
       "      <td>0</td>\n",
       "      <td>0.0</td>\n",
       "      <td>0.0</td>\n",
       "    </tr>\n",
       "    <tr>\n",
       "      <th>8</th>\n",
       "      <td>1071795</td>\n",
       "      <td>1306957</td>\n",
       "      <td>5600</td>\n",
       "      <td>5600</td>\n",
       "      <td>5600.000000</td>\n",
       "      <td>60 months</td>\n",
       "      <td>21.28%</td>\n",
       "      <td>152.39</td>\n",
       "      <td>F</td>\n",
       "      <td>F2</td>\n",
       "      <td>...</td>\n",
       "      <td>152.39</td>\n",
       "      <td>Aug-12</td>\n",
       "      <td>0.0</td>\n",
       "      <td>1</td>\n",
       "      <td>INDIVIDUAL</td>\n",
       "      <td>0</td>\n",
       "      <td>0.0</td>\n",
       "      <td>0</td>\n",
       "      <td>0.0</td>\n",
       "      <td>0.0</td>\n",
       "    </tr>\n",
       "    <tr>\n",
       "      <th>9</th>\n",
       "      <td>1071570</td>\n",
       "      <td>1306721</td>\n",
       "      <td>5375</td>\n",
       "      <td>5375</td>\n",
       "      <td>5350.000000</td>\n",
       "      <td>60 months</td>\n",
       "      <td>12.69%</td>\n",
       "      <td>121.45</td>\n",
       "      <td>B</td>\n",
       "      <td>B5</td>\n",
       "      <td>...</td>\n",
       "      <td>121.45</td>\n",
       "      <td>Mar-13</td>\n",
       "      <td>0.0</td>\n",
       "      <td>1</td>\n",
       "      <td>INDIVIDUAL</td>\n",
       "      <td>0</td>\n",
       "      <td>0.0</td>\n",
       "      <td>0</td>\n",
       "      <td>0.0</td>\n",
       "      <td>0.0</td>\n",
       "    </tr>\n",
       "    <tr>\n",
       "      <th>12</th>\n",
       "      <td>1064687</td>\n",
       "      <td>1298717</td>\n",
       "      <td>9000</td>\n",
       "      <td>9000</td>\n",
       "      <td>9000.000000</td>\n",
       "      <td>36 months</td>\n",
       "      <td>13.49%</td>\n",
       "      <td>305.38</td>\n",
       "      <td>C</td>\n",
       "      <td>C1</td>\n",
       "      <td>...</td>\n",
       "      <td>305.38</td>\n",
       "      <td>Nov-12</td>\n",
       "      <td>0.0</td>\n",
       "      <td>1</td>\n",
       "      <td>INDIVIDUAL</td>\n",
       "      <td>0</td>\n",
       "      <td>0.0</td>\n",
       "      <td>0</td>\n",
       "      <td>0.0</td>\n",
       "      <td>0.0</td>\n",
       "    </tr>\n",
       "    <tr>\n",
       "      <th>14</th>\n",
       "      <td>1069057</td>\n",
       "      <td>1303503</td>\n",
       "      <td>10000</td>\n",
       "      <td>10000</td>\n",
       "      <td>10000.000000</td>\n",
       "      <td>36 months</td>\n",
       "      <td>10.65%</td>\n",
       "      <td>325.74</td>\n",
       "      <td>B</td>\n",
       "      <td>B2</td>\n",
       "      <td>...</td>\n",
       "      <td>325.74</td>\n",
       "      <td>Mar-14</td>\n",
       "      <td>0.0</td>\n",
       "      <td>1</td>\n",
       "      <td>INDIVIDUAL</td>\n",
       "      <td>0</td>\n",
       "      <td>0.0</td>\n",
       "      <td>0</td>\n",
       "      <td>0.0</td>\n",
       "      <td>0.0</td>\n",
       "    </tr>\n",
       "    <tr>\n",
       "      <th>...</th>\n",
       "      <td>...</td>\n",
       "      <td>...</td>\n",
       "      <td>...</td>\n",
       "      <td>...</td>\n",
       "      <td>...</td>\n",
       "      <td>...</td>\n",
       "      <td>...</td>\n",
       "      <td>...</td>\n",
       "      <td>...</td>\n",
       "      <td>...</td>\n",
       "      <td>...</td>\n",
       "      <td>...</td>\n",
       "      <td>...</td>\n",
       "      <td>...</td>\n",
       "      <td>...</td>\n",
       "      <td>...</td>\n",
       "      <td>...</td>\n",
       "      <td>...</td>\n",
       "      <td>...</td>\n",
       "      <td>...</td>\n",
       "      <td>...</td>\n",
       "    </tr>\n",
       "    <tr>\n",
       "      <th>39251</th>\n",
       "      <td>246276</td>\n",
       "      <td>246273</td>\n",
       "      <td>10100</td>\n",
       "      <td>10100</td>\n",
       "      <td>6425.004533</td>\n",
       "      <td>36 months</td>\n",
       "      <td>13.55%</td>\n",
       "      <td>343.00</td>\n",
       "      <td>D</td>\n",
       "      <td>D4</td>\n",
       "      <td>...</td>\n",
       "      <td>343.00</td>\n",
       "      <td>Jan-09</td>\n",
       "      <td>0.0</td>\n",
       "      <td>1</td>\n",
       "      <td>INDIVIDUAL</td>\n",
       "      <td>0</td>\n",
       "      <td>0.0</td>\n",
       "      <td>0</td>\n",
       "      <td>1.0</td>\n",
       "      <td>0.0</td>\n",
       "    </tr>\n",
       "    <tr>\n",
       "      <th>39291</th>\n",
       "      <td>239690</td>\n",
       "      <td>239649</td>\n",
       "      <td>15450</td>\n",
       "      <td>15450</td>\n",
       "      <td>5650.000000</td>\n",
       "      <td>36 months</td>\n",
       "      <td>13.93%</td>\n",
       "      <td>527.52</td>\n",
       "      <td>E</td>\n",
       "      <td>E1</td>\n",
       "      <td>...</td>\n",
       "      <td>35.74</td>\n",
       "      <td>May-16</td>\n",
       "      <td>0.0</td>\n",
       "      <td>1</td>\n",
       "      <td>INDIVIDUAL</td>\n",
       "      <td>0</td>\n",
       "      <td>0.0</td>\n",
       "      <td>0</td>\n",
       "      <td>1.0</td>\n",
       "      <td>0.0</td>\n",
       "    </tr>\n",
       "    <tr>\n",
       "      <th>39362</th>\n",
       "      <td>218343</td>\n",
       "      <td>218321</td>\n",
       "      <td>2150</td>\n",
       "      <td>2150</td>\n",
       "      <td>1574.996529</td>\n",
       "      <td>36 months</td>\n",
       "      <td>10.78%</td>\n",
       "      <td>70.17</td>\n",
       "      <td>C</td>\n",
       "      <td>C1</td>\n",
       "      <td>...</td>\n",
       "      <td>140.34</td>\n",
       "      <td>Mar-10</td>\n",
       "      <td>0.0</td>\n",
       "      <td>1</td>\n",
       "      <td>INDIVIDUAL</td>\n",
       "      <td>0</td>\n",
       "      <td>0.0</td>\n",
       "      <td>0</td>\n",
       "      <td>1.0</td>\n",
       "      <td>0.0</td>\n",
       "    </tr>\n",
       "    <tr>\n",
       "      <th>39425</th>\n",
       "      <td>202270</td>\n",
       "      <td>202156</td>\n",
       "      <td>4000</td>\n",
       "      <td>4000</td>\n",
       "      <td>1199.992159</td>\n",
       "      <td>36 months</td>\n",
       "      <td>12.36%</td>\n",
       "      <td>133.55</td>\n",
       "      <td>D</td>\n",
       "      <td>D1</td>\n",
       "      <td>...</td>\n",
       "      <td>133.55</td>\n",
       "      <td>Apr-16</td>\n",
       "      <td>0.0</td>\n",
       "      <td>1</td>\n",
       "      <td>INDIVIDUAL</td>\n",
       "      <td>0</td>\n",
       "      <td>0.0</td>\n",
       "      <td>0</td>\n",
       "      <td>1.0</td>\n",
       "      <td>0.0</td>\n",
       "    </tr>\n",
       "    <tr>\n",
       "      <th>39623</th>\n",
       "      <td>132892</td>\n",
       "      <td>132889</td>\n",
       "      <td>9000</td>\n",
       "      <td>9000</td>\n",
       "      <td>700.000000</td>\n",
       "      <td>36 months</td>\n",
       "      <td>12.49%</td>\n",
       "      <td>301.04</td>\n",
       "      <td>D</td>\n",
       "      <td>D3</td>\n",
       "      <td>...</td>\n",
       "      <td>301.05</td>\n",
       "      <td>May-16</td>\n",
       "      <td>0.0</td>\n",
       "      <td>1</td>\n",
       "      <td>INDIVIDUAL</td>\n",
       "      <td>0</td>\n",
       "      <td>0.0</td>\n",
       "      <td>0</td>\n",
       "      <td>1.0</td>\n",
       "      <td>0.0</td>\n",
       "    </tr>\n",
       "  </tbody>\n",
       "</table>\n",
       "<p>5201 rows × 53 columns</p>\n",
       "</div>"
      ],
      "text/plain": [
       "            id  member_id  loan_amnt  funded_amnt  funded_amnt_inv  \\\n",
       "1      1077430    1314167       2500         2500      2500.000000   \n",
       "8      1071795    1306957       5600         5600      5600.000000   \n",
       "9      1071570    1306721       5375         5375      5350.000000   \n",
       "12     1064687    1298717       9000         9000      9000.000000   \n",
       "14     1069057    1303503      10000        10000     10000.000000   \n",
       "...        ...        ...        ...          ...              ...   \n",
       "39251   246276     246273      10100        10100      6425.004533   \n",
       "39291   239690     239649      15450        15450      5650.000000   \n",
       "39362   218343     218321       2150         2150      1574.996529   \n",
       "39425   202270     202156       4000         4000      1199.992159   \n",
       "39623   132892     132889       9000         9000       700.000000   \n",
       "\n",
       "             term int_rate  installment grade sub_grade  ... last_pymnt_amnt  \\\n",
       "1       60 months   15.27%        59.83     C        C4  ...          119.66   \n",
       "8       60 months   21.28%       152.39     F        F2  ...          152.39   \n",
       "9       60 months   12.69%       121.45     B        B5  ...          121.45   \n",
       "12      36 months   13.49%       305.38     C        C1  ...          305.38   \n",
       "14      36 months   10.65%       325.74     B        B2  ...          325.74   \n",
       "...           ...      ...          ...   ...       ...  ...             ...   \n",
       "39251   36 months   13.55%       343.00     D        D4  ...          343.00   \n",
       "39291   36 months   13.93%       527.52     E        E1  ...           35.74   \n",
       "39362   36 months   10.78%        70.17     C        C1  ...          140.34   \n",
       "39425   36 months   12.36%       133.55     D        D1  ...          133.55   \n",
       "39623   36 months   12.49%       301.04     D        D3  ...          301.05   \n",
       "\n",
       "      last_credit_pull_d collections_12_mths_ex_med  policy_code  \\\n",
       "1                 Sep-13                        0.0            1   \n",
       "8                 Aug-12                        0.0            1   \n",
       "9                 Mar-13                        0.0            1   \n",
       "12                Nov-12                        0.0            1   \n",
       "14                Mar-14                        0.0            1   \n",
       "...                  ...                        ...          ...   \n",
       "39251             Jan-09                        0.0            1   \n",
       "39291             May-16                        0.0            1   \n",
       "39362             Mar-10                        0.0            1   \n",
       "39425             Apr-16                        0.0            1   \n",
       "39623             May-16                        0.0            1   \n",
       "\n",
       "      application_type acc_now_delinq chargeoff_within_12_mths delinq_amnt  \\\n",
       "1           INDIVIDUAL              0                      0.0           0   \n",
       "8           INDIVIDUAL              0                      0.0           0   \n",
       "9           INDIVIDUAL              0                      0.0           0   \n",
       "12          INDIVIDUAL              0                      0.0           0   \n",
       "14          INDIVIDUAL              0                      0.0           0   \n",
       "...                ...            ...                      ...         ...   \n",
       "39251       INDIVIDUAL              0                      0.0           0   \n",
       "39291       INDIVIDUAL              0                      0.0           0   \n",
       "39362       INDIVIDUAL              0                      0.0           0   \n",
       "39425       INDIVIDUAL              0                      0.0           0   \n",
       "39623       INDIVIDUAL              0                      0.0           0   \n",
       "\n",
       "      pub_rec_bankruptcies tax_liens  \n",
       "1                      0.0       0.0  \n",
       "8                      0.0       0.0  \n",
       "9                      0.0       0.0  \n",
       "12                     0.0       0.0  \n",
       "14                     0.0       0.0  \n",
       "...                    ...       ...  \n",
       "39251                  1.0       0.0  \n",
       "39291                  1.0       0.0  \n",
       "39362                  1.0       0.0  \n",
       "39425                  1.0       0.0  \n",
       "39623                  1.0       0.0  \n",
       "\n",
       "[5201 rows x 53 columns]"
      ]
     },
     "execution_count": 45,
     "metadata": {},
     "output_type": "execute_result"
    }
   ],
   "source": [
    "charged_off = loan[loan.loan_status == 'Charged Off']\n",
    "charged_off"
   ]
  },
  {
   "cell_type": "code",
   "execution_count": 46,
   "id": "dfffd391-462a-4908-a02f-ffc52b131a50",
   "metadata": {},
   "outputs": [
    {
     "data": {
      "text/plain": [
       "(5201, 53)"
      ]
     },
     "execution_count": 46,
     "metadata": {},
     "output_type": "execute_result"
    }
   ],
   "source": [
    "charged_off.shape\n"
   ]
  },
  {
   "cell_type": "markdown",
   "id": "dbae9ee1-8ba7-4048-9d06-febb7f6e8efc",
   "metadata": {},
   "source": [
    "### Plotting default rates across grade of the loan."
   ]
  },
  {
   "cell_type": "code",
   "execution_count": 47,
   "id": "8dad5f36-0b23-452d-9e81-191bff51db2d",
   "metadata": {},
   "outputs": [
    {
     "data": {
      "image/png": "[encoded data removed]",
      "text/plain": [
       "<Figure size 640x480 with 1 Axes>"
      ]
     },
     "metadata": {},
     "output_type": "display_data"
    }
   ],
   "source": [
    "round(100 * charged_off.grade.value_counts(normalize = True),2).plot.bar()\n",
    "plt.show()"
   ]
  },
  {
   "cell_type": "markdown",
   "id": "0c108306-6adc-4b58-9b55-acccf7415cee",
   "metadata": {},
   "source": [
    "### Plotting default rates across verification status of the loan."
   ]
  },
  {
   "cell_type": "code",
   "execution_count": 48,
   "id": "b3e4dad0-609b-498f-a5e9-a65efafa8b6f",
   "metadata": {},
   "outputs": [
    {
     "data": {
      "text/plain": [
       "verification_status\n",
       "Verified           0.371275\n",
       "Not Verified       0.363392\n",
       "Source Verified    0.265334\n",
       "Name: proportion, dtype: float64"
      ]
     },
     "execution_count": 48,
     "metadata": {},
     "output_type": "execute_result"
    }
   ],
   "source": [
    "\n",
    "charged_off.verification_status.value_counts(normalize = True)"
   ]
  },
  {
   "cell_type": "code",
   "execution_count": 49,
   "id": "db07ea6d-4161-4081-b72c-1ab0d2c277e5",
   "metadata": {},
   "outputs": [
    {
     "data": {
      "image/png": "[encoded data removed]",
      "text/plain": [
       "<Figure size 640x480 with 1 Axes>"
      ]
     },
     "metadata": {},
     "output_type": "display_data"
    }
   ],
   "source": [
    "#plot the pie chart of verification_status categories\n",
    "round(100 * charged_off.verification_status.value_counts(normalize = True),2).plot.pie(colors = ['green','red','yellow'], autopct = '%0.1f%%')\n",
    "plt.show()\n"
   ]
  },
  {
   "cell_type": "markdown",
   "id": "090235dc-407f-4fe0-a6c4-a5ec8576a466",
   "metadata": {},
   "source": [
    "### Plotting default rates across home ownership of the loan."
   ]
  },
  {
   "cell_type": "code",
   "execution_count": 50,
   "id": "2ed796bd-6988-4eac-8277-700508444ff6",
   "metadata": {},
   "outputs": [
    {
     "data": {
      "text/plain": [
       "home_ownership\n",
       "RENT        2619\n",
       "MORTGAGE    2182\n",
       "OWN          382\n",
       "OTHER         18\n",
       "Name: count, dtype: int64"
      ]
     },
     "execution_count": 50,
     "metadata": {},
     "output_type": "execute_result"
    }
   ],
   "source": [
    "charged_off.home_ownership.value_counts()\n"
   ]
  },
  {
   "cell_type": "code",
   "execution_count": 51,
   "id": "396da392-5e70-4f37-bdc1-46c7f4c95290",
   "metadata": {},
   "outputs": [
    {
     "data": {
      "image/png": "[encoded data removed]",
      "text/plain": [
       "<Figure size 640x480 with 1 Axes>"
      ]
     },
     "metadata": {},
     "output_type": "display_data"
    }
   ],
   "source": [
    "# the bar chart of percentage home_ownership categories\n",
    "round(100*charged_off.home_ownership.value_counts(normalize = True),2).plot.bar(color = ['blue','maroon','orange','blue'])\n",
    "plt.show()\n"
   ]
  },
  {
   "cell_type": "markdown",
   "id": "186a0680-0797-4ff9-87c1-19daacb5f5ee",
   "metadata": {},
   "source": [
    "### Plotting default rates across delinq_2yrs of the loan."
   ]
  },
  {
   "cell_type": "code",
   "execution_count": 52,
   "id": "bc1c782a-6c9c-4e64-905b-8bd20c22cb24",
   "metadata": {},
   "outputs": [
    {
     "data": {
      "text/plain": [
       "delinq_2yrs\n",
       "0    4573\n",
       "1     465\n",
       "2     119\n",
       "3      26\n",
       "4      12\n",
       "5       3\n",
       "7       1\n",
       "6       1\n",
       "8       1\n",
       "Name: count, dtype: int64"
      ]
     },
     "execution_count": 52,
     "metadata": {},
     "output_type": "execute_result"
    }
   ],
   "source": [
    "charged_off.delinq_2yrs.value_counts()"
   ]
  },
  {
   "cell_type": "markdown",
   "id": "24fc23df-23fa-40e0-b733-81343dd0360b",
   "metadata": {},
   "source": [
    "### lets Create verification_status of numerical data type where 'Not Verified' = 0, else = 1.\n"
   ]
  },
  {
   "cell_type": "code",
   "execution_count": 53,
   "id": "936578a6-97af-49af-b9a7-fce4093dddce",
   "metadata": {},
   "outputs": [],
   "source": [
    "charged_off[\"verification_status\"] = charged_off[\"verification_status\"].apply(lambda x: 0 if x=='Not Verified' else 1)\n",
    "charged_off[\"verification_status\"] = charged_off[\"verification_status\"].apply(lambda x:pd.to_numeric(x))\n"
   ]
  },
  {
   "cell_type": "code",
   "execution_count": 54,
   "id": "d78efda8-9507-4034-b49a-c661abf63520",
   "metadata": {},
   "outputs": [
    {
     "data": {
      "text/plain": [
       "verification_status\n",
       "1    3311\n",
       "0    1890\n",
       "Name: count, dtype: int64"
      ]
     },
     "execution_count": 54,
     "metadata": {},
     "output_type": "execute_result"
    }
   ],
   "source": [
    "# Summarizing the values\n",
    "charged_off[\"verification_status\"].value_counts()\n"
   ]
  },
  {
   "cell_type": "markdown",
   "id": "57cae03e-236a-4378-9514-97433cf5a35b",
   "metadata": {},
   "source": [
    "### Emp_length VS verification_Status"
   ]
  },
  {
   "cell_type": "code",
   "execution_count": 55,
   "id": "428a7f8f-118e-49e8-b8b0-edc14a6ff124",
   "metadata": {},
   "outputs": [
    {
     "data": {
      "text/plain": [
       "<function matplotlib.pyplot.show(close=None, block=None)>"
      ]
     },
     "execution_count": 55,
     "metadata": {},
     "output_type": "execute_result"
    },
    {
     "data": {
      "image/png": "[encoded data removed]",
      "text/plain": [
       "<Figure size 1000x600 with 1 Axes>"
      ]
     },
     "metadata": {},
     "output_type": "display_data"
    }
   ],
   "source": [
    "# plotting default rates across emp_length of the loan\n",
    "plt.figure(figsize = (10,6))\n",
    "sns.barplot(x = 'emp_length', y = 'verification_status', data = charged_off)\n",
    "plt.show\n"
   ]
  },
  {
   "cell_type": "markdown",
   "id": "de06baf8-497a-4e5f-9733-cbc5c3be0626",
   "metadata": {},
   "source": [
    "### lets Define a function to plot loan_status across categorical variable"
   ]
  },
  {
   "cell_type": "code",
   "execution_count": 56,
   "id": "3bdf0186-5391-4578-859d-184d99b98e0d",
   "metadata": {},
   "outputs": [],
   "source": [
    "def plot_ver(cat_var):\n",
    " sns.barplot(x = cat_var, y = 'verification_status', data = charged_off)\n",
    " plt.show()\n"
   ]
  },
  {
   "cell_type": "markdown",
   "id": "1c6c6faa-9911-4ad2-9fbf-8e015a0e7966",
   "metadata": {},
   "source": [
    "### Home Ownership VS Verification Status\n"
   ]
  },
  {
   "cell_type": "code",
   "execution_count": 57,
   "id": "66537dd1-3f80-4e8d-98f2-fd9fa3519bb6",
   "metadata": {},
   "outputs": [
    {
     "data": {
      "text/plain": [
       "home_ownership\n",
       "MORTGAGE    0.658570\n",
       "OTHER       0.444444\n",
       "OWN         0.594241\n",
       "RENT        0.625811\n",
       "Name: verification_status, dtype: float64"
      ]
     },
     "execution_count": 57,
     "metadata": {},
     "output_type": "execute_result"
    }
   ],
   "source": [
    "#calculate the mean of verification status with different home ownership.\n",
    "charged_off.groupby(\"home_ownership\")[\"verification_status\"].mean()"
   ]
  },
  {
   "cell_type": "code",
   "execution_count": 58,
   "id": "2a4201ce-3e96-4da4-b204-8419f599c9ba",
   "metadata": {},
   "outputs": [
    {
     "data": {
      "image/png": "[encoded data removed]",
      "text/plain": [
       "<Figure size 640x480 with 1 Axes>"
      ]
     },
     "metadata": {},
     "output_type": "display_data"
    }
   ],
   "source": [
    "#lets plot the bar graph of home_ownership with average value of verification status\n",
    "charged_off.groupby(\"home_ownership\")[\"verification_status\"].mean().plot.bar()\n",
    "plt.show()\n"
   ]
  },
  {
   "cell_type": "markdown",
   "id": "9bb7c4ad-622e-400e-ae33-4c0450ffda6c",
   "metadata": {},
   "source": [
    "### Term VS Verification Status"
   ]
  },
  {
   "cell_type": "code",
   "execution_count": 59,
   "id": "da79961d-d97f-409e-a468-621537acbdc9",
   "metadata": {},
   "outputs": [
    {
     "data": {
      "image/png": "[encoded data removed]",
      "text/plain": [
       "<Figure size 640x480 with 1 Axes>"
      ]
     },
     "metadata": {},
     "output_type": "display_data"
    }
   ],
   "source": [
    " # lets Compare default rates across term of loan\n",
    "plot_ver('term')"
   ]
  },
  {
   "cell_type": "markdown",
   "id": "ac97e246-d747-4002-adb5-c6c606de336d",
   "metadata": {},
   "source": [
    "### Emp_length VS Verification Status\n"
   ]
  },
  {
   "cell_type": "code",
   "execution_count": 60,
   "id": "d94f5fdb-f688-4bd1-900c-b0affc3f1382",
   "metadata": {},
   "outputs": [
    {
     "data": {
      "image/png": "[encoded data removed]",
      "text/plain": [
       "<Figure size 640x480 with 1 Axes>"
      ]
     },
     "metadata": {},
     "output_type": "display_data"
    }
   ],
   "source": [
    "\n",
    "# lets plot the bar chart of emp_length categories\n",
    "plot_ver('grade')"
   ]
  },
  {
   "cell_type": "markdown",
   "id": "76437c33-badf-4e17-a053-56b67a818818",
   "metadata": {},
   "source": [
    "#### Purpose VS Verification Status"
   ]
  },
  {
   "cell_type": "code",
   "execution_count": 61,
   "id": "39c514f7-b190-4df9-893b-d972340f207c",
   "metadata": {},
   "outputs": [
    {
     "data": {
      "image/png": "[encoded data removed]",
      "text/plain": [
       "<Figure size 2000x600 with 1 Axes>"
      ]
     },
     "metadata": {},
     "output_type": "display_data"
    }
   ],
   "source": [
    "# Compare default rates across purpose of loan\n",
    "plt.figure(figsize = (20,6))\n",
    "plot_ver('purpose')"
   ]
  },
  {
   "cell_type": "markdown",
   "id": "48260baf-db9d-4372-814e-0f2acf1bc7ec",
   "metadata": {},
   "source": [
    "### loan amount: the median loan amount is around 10000"
   ]
  },
  {
   "cell_type": "code",
   "execution_count": 62,
   "id": "d5ebf9cb-70cf-4e28-9231-820d32c083f4",
   "metadata": {},
   "outputs": [
    {
     "data": {
      "image/png": "[encoded data removed]",
      "text/plain": [
       "<Figure size 640x480 with 1 Axes>"
      ]
     },
     "metadata": {},
     "output_type": "display_data"
    }
   ],
   "source": [
    "sns.distplot(charged_off['loan_amnt'])\n",
    "plt.show()"
   ]
  },
  {
   "cell_type": "markdown",
   "id": "5fa7450f-7a48-4591-9d13-baafb9749f5b",
   "metadata": {},
   "source": [
    "compare the default rates across loan amount type : small, medium, high, very high."
   ]
  },
  {
   "cell_type": "code",
   "execution_count": 63,
   "id": "70af6132-4793-4fda-bbc9-7481f10e0959",
   "metadata": {},
   "outputs": [],
   "source": [
    "def loan_amount(n):\n",
    " if n < 5000:\n",
    "  return 'low'\n",
    " elif n >= 5000 and n < 15000:\n",
    "  return 'medium'\n",
    " elif n >= 15000 and n < 25000:\n",
    "  return 'high'\n",
    " else:\n",
    "  return 'very high'\n"
   ]
  },
  {
   "cell_type": "code",
   "execution_count": 64,
   "id": "bf8fb587-a171-417f-80d8-6403c1f45f8d",
   "metadata": {},
   "outputs": [],
   "source": [
    "charged_off['loan_amnt'] = charged_off['loan_amnt'].apply(lambda x: loan_amount(x))\n"
   ]
  },
  {
   "cell_type": "code",
   "execution_count": 65,
   "id": "9a02dac8-ffd5-45dc-bd11-3795d17a3a34",
   "metadata": {},
   "outputs": [
    {
     "data": {
      "text/plain": [
       "loan_amnt\n",
       "medium       2539\n",
       "high         1226\n",
       "low           889\n",
       "very high     547\n",
       "Name: count, dtype: int64"
      ]
     },
     "execution_count": 65,
     "metadata": {},
     "output_type": "execute_result"
    }
   ],
   "source": [
    "charged_off['loan_amnt'].value_counts()\n"
   ]
  },
  {
   "cell_type": "code",
   "execution_count": 66,
   "id": "a065e214-b79c-4324-b2f5-1b0d1089ea75",
   "metadata": {},
   "outputs": [
    {
     "data": {
      "image/png": "[encoded data removed]",
      "text/plain": [
       "<Figure size 640x480 with 1 Axes>"
      ]
     },
     "metadata": {},
     "output_type": "display_data"
    }
   ],
   "source": [
    "plot_ver('loan_amnt')"
   ]
  },
  {
   "cell_type": "markdown",
   "id": "70b5cadb-7ccb-47f2-852d-8631302d12d2",
   "metadata": {},
   "source": [
    "### Funded amount invested VS Verification Status"
   ]
  },
  {
   "cell_type": "code",
   "execution_count": 67,
   "id": "a1594200-1498-471e-99b5-8b6dd3d3d8a5",
   "metadata": {},
   "outputs": [],
   "source": [
    "# Convert funded amount invested to bins\n",
    "charged_off['funded_amnt_inv'] = charged_off['funded_amnt_inv'].apply(lambda x: loan_amount(x))"
   ]
  },
  {
   "cell_type": "code",
   "execution_count": 68,
   "id": "93413346-aa4b-4729-aa5b-ea13777b96fc",
   "metadata": {},
   "outputs": [
    {
     "data": {
      "image/png": "[encoded data removed]",
      "text/plain": [
       "<Figure size 640x480 with 1 Axes>"
      ]
     },
     "metadata": {},
     "output_type": "display_data"
    }
   ],
   "source": [
    "plot_ver('funded_amnt_inv')\n"
   ]
  },
  {
   "cell_type": "markdown",
   "id": "8a28863e-65ce-4bbd-9d2d-3a5dace0444c",
   "metadata": {},
   "source": [
    "### Interest Rate VS Verification Status\n"
   ]
  },
  {
   "cell_type": "code",
   "execution_count": 69,
   "id": "beb420bc-114b-4fd0-bd8c-b19e556624a2",
   "metadata": {},
   "outputs": [],
   "source": [
    " # Remove the percentage symbol and convert to numeric\n",
    "charged_off['int_rate'] = charged_off['int_rate'].str.rstrip('%').astype(float)\n"
   ]
  },
  {
   "cell_type": "code",
   "execution_count": 70,
   "id": "297a5c07-ba97-4a7a-9ceb-d6316e0ecab2",
   "metadata": {},
   "outputs": [],
   "source": [
    " #lets convert interest rate to low, medium, high\n",
    "def int_rate(n):\n",
    "    if n <= 10:\n",
    "        return 'low'\n",
    "    elif n > 10 and n <= 15:\n",
    "        return 'medium'\n",
    "    else:\n",
    "        return 'high'\n"
   ]
  },
  {
   "cell_type": "code",
   "execution_count": 71,
   "id": "dba01d85-d751-41ad-833d-d63fb3807e22",
   "metadata": {},
   "outputs": [],
   "source": [
    "# Convert interest rate invested to bins\n",
    "charged_off['int_rate'] = charged_off['int_rate'].apply(lambda x: int_rate(x))\n"
   ]
  },
  {
   "cell_type": "code",
   "execution_count": 72,
   "id": "a6ca2083-7221-4fa4-bc77-7779d635966f",
   "metadata": {},
   "outputs": [
    {
     "data": {
      "image/png": "[encoded data removed]",
      "text/plain": [
       "<Figure size 640x480 with 1 Axes>"
      ]
     },
     "metadata": {},
     "output_type": "display_data"
    }
   ],
   "source": [
    "# Comparing default rates across rates of interest\n",
    "plot_ver('int_rate')"
   ]
  },
  {
   "cell_type": "markdown",
   "id": "1e429ba0-2f9e-4e5b-9ea7-bd842129205f",
   "metadata": {},
   "source": [
    "### dti VS Verification Status\n"
   ]
  },
  {
   "cell_type": "code",
   "execution_count": 73,
   "id": "b6b54b46-b4fd-4924-a1d9-22167c88fa4f",
   "metadata": {},
   "outputs": [],
   "source": [
    "#  convert dti to low, medium, high\n",
    "\n",
    "def dti(n):\n",
    "    if n <= 10:\n",
    "        return 'low'\n",
    "    elif n > 10 and n <= 20:\n",
    "        return 'medium'\n",
    "    else:\n",
    "        return 'high'\n",
    " \n",
    "charged_off['dti'] = charged_off['dti'].apply(lambda x: int_rate(x))\n"
   ]
  },
  {
   "cell_type": "code",
   "execution_count": 74,
   "id": "0bd1b289-9375-4920-baed-d91c477015c9",
   "metadata": {},
   "outputs": [
    {
     "data": {
      "image/png": "[encoded data removed]",
      "text/plain": [
       "<Figure size 640x480 with 1 Axes>"
      ]
     },
     "metadata": {},
     "output_type": "display_data"
    }
   ],
   "source": [
    "# Comparing default rates across dti\n",
    "plot_ver('dti')"
   ]
  },
  {
   "cell_type": "markdown",
   "id": "f226d89d-0020-4355-aaa5-3f81607a885b",
   "metadata": {},
   "source": [
    "### Conclusion"
   ]
  },
  {
   "cell_type": "markdown",
   "id": "4a8c7528-c3f8-4501-aa08-8a2a90747660",
   "metadata": {},
   "source": [
    "### Driving Factors (or driver variables)\n",
    "\n",
    "(1) Loan Term: Average Interest rate for defaulted applications is very high with 12.38 % for 36 months and 15.75 % for 60 months term.\n",
    "\n",
    "(2) Grade: Default Rate is high in high risk loan applicants. It would be important for LC to thoroughly vet high risk loan applications.\n",
    "\n",
    "(3) Loan Amount: Defaulter rate increases as the requested loan amount increases.\n",
    "\n",
    "(4) Annual Income: Applicants fr90K USD) income group have a greater share of defaulted loans.\n",
    "\n",
    "(5) Employment Length: Maximum number of defaulters have 10/10+ years of experience and 0 to 2 years of experience. Hence, LC should be take this aspect into consideration while lending loans.\n",
    "\n",
    "(6) Loan Purpose: The top two reasons for loans are debt consolidation and credit card. Such applications should be careful\n",
    "\n",
    "(7) Interest Rate:  The higher the installment amount, the higher the default rate. ly assessed.\n"
   ]
  }
 ],
 "metadata": {
  "kernelspec": {
   "display_name": "Python 3 (ipykernel)",
   "language": "python",
   "name": "python3"
  },
  "language_info": {
   "codemirror_mode": {
    "name": "ipython",
    "version": 3
   },
   "file_extension": ".py",
   "mimetype": "text/x-python",
   "name": "python",
   "nbconvert_exporter": "python",
   "pygments_lexer": "ipython3",
   "version": "3.11.7"
  }
 },
 "nbformat": 4,
 "nbformat_minor": 5
}
